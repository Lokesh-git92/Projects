{
 "cells": [
  {
   "cell_type": "markdown",
   "metadata": {},
   "source": [
    "# Reading the file"
   ]
  },
  {
   "cell_type": "code",
   "execution_count": 1,
   "metadata": {},
   "outputs": [
    {
     "name": "stdout",
     "output_type": "stream",
     "text": [
      "['Id', 'Company', 'Product', 'TypeName', 'Inches', 'ScreenResolution', 'Cpu', 'Ram', 'Memory', 'Gpu', 'OpSys', 'Weight', 'Price']\n",
      "\n",
      "\n",
      "[['6571244', 'Apple', 'MacBook Pro', 'Ultrabook', '13.3', 'IPS Panel Retina Display 2560x1600', 'Intel Core i5 2.3GHz', '8GB', '128GB SSD', 'Intel Iris Plus Graphics 640', 'macOS', '1.37kg', '1339'], ['7287764', 'Apple', 'Macbook Air', 'Ultrabook', '13.3', '1440x900', 'Intel Core i5 1.8GHz', '8GB', '128GB Flash Storage', 'Intel HD Graphics 6000', 'macOS', '1.34kg', '898'], ['3362737', 'HP', '250 G6', 'Notebook', '15.6', 'Full HD 1920x1080', 'Intel Core i5 7200U 2.5GHz', '8GB', '256GB SSD', 'Intel HD Graphics 620', 'No OS', '1.86kg', '575'], ['9722156', 'Apple', 'MacBook Pro', 'Ultrabook', '15.4', 'IPS Panel Retina Display 2880x1800', 'Intel Core i7 2.7GHz', '16GB', '512GB SSD', 'AMD Radeon Pro 455', 'macOS', '1.83kg', '2537'], ['8550527', 'Apple', 'MacBook Pro', 'Ultrabook', '13.3', 'IPS Panel Retina Display 2560x1600', 'Intel Core i5 3.1GHz', '8GB', '256GB SSD', 'Intel Iris Plus Graphics 650', 'macOS', '1.37kg', '1803']]\n"
     ]
    }
   ],
   "source": [
    "import csv\n",
    "with open ('laptops.csv') as file:\n",
    "    rows = list(csv.reader(file))\n",
    "    header = rows[0]\n",
    "    rows = rows[1:]\n",
    "    print(header)\n",
    "    print(\"\\n\")\n",
    "    print(rows[:5])"
   ]
  },
  {
   "cell_type": "markdown",
   "metadata": {},
   "source": [
    "# Inventory Class\n",
    "Implementing a class to represent the inventory. It get the name of the CSV file as argument and reads it into self.header and self.rows."
   ]
  },
  {
   "cell_type": "code",
   "execution_count": 2,
   "metadata": {},
   "outputs": [],
   "source": [
    "class Inventory():\n",
    "    \n",
    "    def __init__(self,csv_filename):\n",
    "        with open(csv_filename, mode = 'r') as file:\n",
    "            row = list(csv.reader(file))\n",
    "            self.header = row[0]\n",
    "            self.rows = row[1:]\n",
    "            for each in self.rows:\n",
    "                each[12] = int(each[12])"
   ]
  },
  {
   "cell_type": "code",
   "execution_count": 3,
   "metadata": {},
   "outputs": [
    {
     "name": "stdout",
     "output_type": "stream",
     "text": [
      "['Id', 'Company', 'Product', 'TypeName', 'Inches', 'ScreenResolution', 'Cpu', 'Ram', 'Memory', 'Gpu', 'OpSys', 'Weight', 'Price']\n",
      "\n",
      "\n",
      "1303\n"
     ]
    }
   ],
   "source": [
    "inventory = Inventory('laptops.csv')\n",
    "print(inventory.header)\n",
    "print(\"\\n\")\n",
    "print(len(inventory.rows))"
   ]
  },
  {
   "cell_type": "markdown",
   "metadata": {},
   "source": [
    "# Adding a method to the class that retrieves the data for given laptop id"
   ]
  },
  {
   "cell_type": "code",
   "execution_count": 4,
   "metadata": {},
   "outputs": [],
   "source": [
    "class Inventory():\n",
    "    # constructor that intializes the header and rows of data\n",
    "    def __init__(self,csv_filename):\n",
    "        with open(csv_filename, mode = 'r') as file:\n",
    "            row = list(csv.reader(file))\n",
    "            self.header = row[0]\n",
    "            self.rows = row[1:]\n",
    "            for each in self.rows:\n",
    "                each[12] = int(each[12])\n",
    "    # a method to retrieve a row that matches a given laptop_id            \n",
    "    def get_laptop_from_id(self, laptop_id):\n",
    "        for each in self.rows:\n",
    "            if laptop_id == each[0]:\n",
    "                return each        \n",
    "        return None\n",
    "            "
   ]
  },
  {
   "cell_type": "code",
   "execution_count": 7,
   "metadata": {},
   "outputs": [
    {
     "name": "stdout",
     "output_type": "stream",
     "text": [
      "['3362737', 'HP', '250 G6', 'Notebook', '15.6', 'Full HD 1920x1080', 'Intel Core i5 7200U 2.5GHz', '8GB', '256GB SSD', 'Intel HD Graphics 620', 'No OS', '1.86kg', 575]\n",
      "None\n"
     ]
    }
   ],
   "source": [
    "inventory  = Inventory('laptops.csv')\n",
    "print(inventory.get_laptop_from_id('3362737'))\n",
    "print(inventory.get_laptop_from_id('3362736'))"
   ]
  },
  {
   "cell_type": "markdown",
   "metadata": {},
   "source": [
    "# optimising the laptop look up\n",
    "Python dictionary which facilitates constant time look up and data retrieval is used here."
   ]
  },
  {
   "cell_type": "code",
   "execution_count": 9,
   "metadata": {},
   "outputs": [],
   "source": [
    "class Inventory():\n",
    "    # constructor that intializes the header and rows of data\n",
    "    def __init__(self,csv_filename):\n",
    "        with open(csv_filename, mode = 'r') as file:\n",
    "            row = list(csv.reader(file))\n",
    "            self.header = row[0]\n",
    "            self.rows = row[1:]\n",
    "            for each in self.rows:\n",
    "                each[12] = int(each[12])\n",
    "            #data is stored in dictionary\n",
    "            self.id_to_row = {}\n",
    "            for each in self.rows:\n",
    "                self.id_to_row[each[0]] = each\n",
    "    # a method to retrieve a row that matches a given laptop_id            \n",
    "    def get_laptop_from_id(self, laptop_id):\n",
    "        for each in self.rows:\n",
    "            if laptop_id == each[0]:\n",
    "                return each        \n",
    "        return None\n",
    "    \n",
    "    # an improved methid to retrieve laptop id\n",
    "    def get_laptop_from_id_fast(self, laptop_id):\n",
    "        if laptop_id in self.id_to_row:\n",
    "            return self.id_to_row[laptop_id]\n",
    "        return None"
   ]
  },
  {
   "cell_type": "code",
   "execution_count": 12,
   "metadata": {},
   "outputs": [
    {
     "name": "stdout",
     "output_type": "stream",
     "text": [
      "['3362737', 'HP', '250 G6', 'Notebook', '15.6', 'Full HD 1920x1080', 'Intel Core i5 7200U 2.5GHz', '8GB', '256GB SSD', 'Intel HD Graphics 620', 'No OS', '1.86kg', 575]\n",
      "None\n"
     ]
    }
   ],
   "source": [
    "inventory  = Inventory('laptops.csv')\n",
    "print(inventory.get_laptop_from_id_fast('3362737'))\n",
    "print(inventory.get_laptop_from_id_fast('3362736'))"
   ]
  },
  {
   "cell_type": "markdown",
   "metadata": {},
   "source": [
    "# Comparing Performance\n",
    "Compare the performance of both function for id lookup."
   ]
  },
  {
   "cell_type": "code",
   "execution_count": 15,
   "metadata": {},
   "outputs": [
    {
     "name": "stdout",
     "output_type": "stream",
     "text": [
      "0.9889552593231201\n",
      "0.0041654109954833984\n",
      "237.4208116307023\n"
     ]
    }
   ],
   "source": [
    "import time                                                      \n",
    "import random                                                       \n",
    "\n",
    "ids = [str(random.randint(1000000, 9999999)) for _ in range(10000)]\n",
    "\n",
    "inventory = Inventory('laptops.csv')                               \n",
    "\n",
    "total_time_no_dict = 0                                              \n",
    "for identifier in ids:                                             \n",
    "    start = time.time()                                             \n",
    "    inventory.get_laptop_from_id(identifier)                      \n",
    "    end = time.time()                                               \n",
    "    total_time_no_dict += end - start                              \n",
    "    \n",
    "total_time_dict = 0                                               \n",
    "for identifier in ids:                                              \n",
    "    start = time.time()                                            \n",
    "    inventory.get_laptop_from_id_fast(identifier)                   \n",
    "    end = time.time()                                             \n",
    "    total_time_dict += end - start                                  \n",
    "    \n",
    "print(total_time_no_dict)                                           \n",
    "print(total_time_dict)\n",
    "print(total_time_no_dict/total_time_dict)"
   ]
  },
  {
   "cell_type": "markdown",
   "metadata": {},
   "source": [
    "# Analysis\n",
    "We got:\n",
    "\n",
    "0.9842617511749268\n",
    "0.004242897033691406\n",
    "\n",
    "We can see a significant improve in performance. If we divide 0.588 by 0.002 we see that the new method is about 237 times faster for this input size.\n",
    "\n",
    "# Two Laptop Promotion\n",
    "Write a method that finds whether we can spend a given amount of money by purchasing either one or two laptops."
   ]
  },
  {
   "cell_type": "code",
   "execution_count": 19,
   "metadata": {},
   "outputs": [],
   "source": [
    "class Inventory():\n",
    "    # constructor that intializes the header and rows of data\n",
    "    def __init__(self,csv_filename):\n",
    "        with open(csv_filename, mode = 'r') as file:\n",
    "            row = list(csv.reader(file))\n",
    "            self.header = row[0]\n",
    "            self.rows = row[1:]\n",
    "            for each in self.rows:\n",
    "                each[12] = int(each[12])\n",
    "            #data is stored in dictionary\n",
    "            self.id_to_row = {}\n",
    "            for each in self.rows:\n",
    "                self.id_to_row[each[0]] = each\n",
    "    # a method to retrieve a row that matches a given laptop_id            \n",
    "    def get_laptop_from_id(self, laptop_id):\n",
    "        for each in self.rows:\n",
    "            if laptop_id == each[0]:\n",
    "                return each        \n",
    "        return None\n",
    "    \n",
    "    # an improved methid to retrieve laptop id\n",
    "    def get_laptop_from_id_fast(self, laptop_id):\n",
    "        if laptop_id in self.id_to_row:\n",
    "            return self.id_to_row[laptop_id]\n",
    "        return None\n",
    "    \n",
    "    #Given Gift card, check whther it is possible to spend the \n",
    "    #enitre amount for atmost two latops\n",
    "    def check_promotion_dollars(self, dollars):\n",
    "        for each in self.rows:\n",
    "            # if gift equals one laptop price\n",
    "            if dollars == each[-1]:\n",
    "                return True\n",
    "            #if two laptop adds uptop one laptop price\n",
    "        for each1 in self.rows:\n",
    "            for each2 in self.rows:\n",
    "                if each1[-1] + each2[-1] == dollars:\n",
    "                    return True\n",
    "        return False"
   ]
  },
  {
   "cell_type": "code",
   "execution_count": 20,
   "metadata": {},
   "outputs": [
    {
     "name": "stdout",
     "output_type": "stream",
     "text": [
      "True\n",
      "False\n"
     ]
    }
   ],
   "source": [
    "inventory = Inventory('laptops.csv')               \n",
    "print(inventory.check_promotion_dollars(1000))    \n",
    "print(inventory.check_promotion_dollars(442))"
   ]
  },
  {
   "cell_type": "markdown",
   "metadata": {},
   "source": [
    "# Optimizing Laptop Promotion\n",
    "Create a faster version of the promotion method by using one for loop. Also the data is preprocessed into set() which provides O(1) time complexity during look up but has increased memory complexity correspoding to no of prices data"
   ]
  },
  {
   "cell_type": "code",
   "execution_count": 28,
   "metadata": {},
   "outputs": [],
   "source": [
    "class Inventory():\n",
    "    # constructor that intializes the header and rows of data\n",
    "    def __init__(self,csv_filename):\n",
    "        with open(csv_filename, mode = 'r') as file:\n",
    "            row = list(csv.reader(file))\n",
    "            self.header = row[0]\n",
    "            self.rows = row[1:]\n",
    "            for each in self.rows:\n",
    "                each[12] = int(each[12])\n",
    "            #data is stored in dictionary\n",
    "            self.id_to_row = {}\n",
    "            for each in self.rows:\n",
    "                self.id_to_row[each[0]] = each\n",
    "            #set () facilitates O(1) time complexity for look up\n",
    "            self.prices = set()\n",
    "            for each in self.rows:\n",
    "                self.prices.add(each[-1])\n",
    "    \n",
    "    \n",
    "    # a method to retrieve a row that matches a given laptop_id            \n",
    "    def get_laptop_from_id(self, laptop_id):\n",
    "        for each in self.rows:\n",
    "            if laptop_id == each[0]:\n",
    "                return each        \n",
    "        return None\n",
    "    \n",
    "    \n",
    "    # an improved methid to retrieve laptop id\n",
    "    def get_laptop_from_id_fast(self, laptop_id):\n",
    "        if laptop_id in self.id_to_row:\n",
    "            return self.id_to_row[laptop_id]\n",
    "        return None\n",
    "    \n",
    "    #Given Gift card, check whther it is possible to spend the \n",
    "    #enitre amount for atmost two latops\n",
    "    def check_promotion_dollars(self, dollars):\n",
    "        for each in self.rows:\n",
    "            # if gift equals one laptop price\n",
    "            if dollars == each[-1]:\n",
    "                return True\n",
    "            #if two laptop adds uptop one laptop price\n",
    "        for each1 in self.rows:\n",
    "            for each2 in self.rows:\n",
    "                if each1[-1] + each2[-1] == dollars:\n",
    "                    return True\n",
    "        return False\n",
    "    \n",
    "    #a faster method which has one for loop and a data store in set()\n",
    "    def check_promotion_dollars_fast(self, dollars):\n",
    "        for each in self.rows:\n",
    "            # if gift equals one laptop price\n",
    "            if dollars in self.prices:\n",
    "                return True\n",
    "        #if two laptop adds uptop one laptop price and check in set()\n",
    "        for price  in self.prices:\n",
    "            if dollars - price in self.prices:\n",
    "                return True\n",
    "        return False\n",
    "\n",
    "        "
   ]
  },
  {
   "cell_type": "markdown",
   "metadata": {},
   "source": [
    "# Test the code"
   ]
  },
  {
   "cell_type": "code",
   "execution_count": 29,
   "metadata": {},
   "outputs": [
    {
     "name": "stdout",
     "output_type": "stream",
     "text": [
      "True\n",
      "False\n"
     ]
    }
   ],
   "source": [
    "inventory = Inventory('laptops.csv')                 \n",
    "print(inventory.check_promotion_dollars_fast(1000))  \n",
    "print(inventory.check_promotion_dollars_fast(442))"
   ]
  },
  {
   "cell_type": "markdown",
   "metadata": {},
   "source": [
    "# Comparing Promotion Functions\n",
    "Compare the performance of both methods for the promotion."
   ]
  },
  {
   "cell_type": "code",
   "execution_count": 31,
   "metadata": {},
   "outputs": [
    {
     "name": "stdout",
     "output_type": "stream",
     "text": [
      "2.6307811737060547\n",
      "0.008604288101196289\n",
      "305.75233450635926\n"
     ]
    }
   ],
   "source": [
    "\n",
    "prices = [random.randint(100, 5000) for _ in range(100)] \n",
    "\n",
    "inventory = Inventory('laptops.csv')                     \n",
    "\n",
    "total_time_no_set = 0                                    \n",
    "for price in prices:                                     \n",
    "    start = time.time()                                  \n",
    "    inventory.check_promotion_dollars(price)             \n",
    "    end = time.time()                                    \n",
    "    total_time_no_set += end - start                     \n",
    "    \n",
    "total_time_set = 0                                       \n",
    "for price in prices:                                     \n",
    "    start = time.time()                                  \n",
    "    inventory.check_promotion_dollars_fast(price)        \n",
    "    end = time.time()                                    \n",
    "    total_time_set += end - start                        \n",
    "    \n",
    "print(total_time_no_set)                                 \n",
    "print(total_time_set)\n",
    "print(total_time_no_set/total_time_set)"
   ]
  },
  {
   "cell_type": "markdown",
   "metadata": {},
   "source": [
    "# Analysis\n",
    "We got:\n",
    "\n",
    "2.6307811737060547\n",
    "0.008604288101196289\n",
    "We can see a significant improve in performance. If we divide 2.63078 by 0.0086 we see that the new method is about 305 times faster for this input size.\n",
    "# Finding Laptops Within a Budget\n",
    "Implement a method for finding the range of indexes of laptops that fall within a budget."
   ]
  },
  {
   "cell_type": "code",
   "execution_count": 37,
   "metadata": {},
   "outputs": [],
   "source": [
    "def row_price(row):\n",
    "    return row[-1]\n",
    "\n",
    "class Inventory():\n",
    "    # constructor that intializes the header and rows of data\n",
    "    def __init__(self,csv_filename):\n",
    "        with open(csv_filename, mode = 'r') as file:\n",
    "            row = list(csv.reader(file))\n",
    "            self.header = row[0]\n",
    "            self.rows = row[1:]\n",
    "            for each in self.rows:\n",
    "                each[12] = int(each[12])\n",
    "            #data is stored in dictionary\n",
    "            self.id_to_row = {}\n",
    "            for each in self.rows:\n",
    "                self.id_to_row[each[0]] = each\n",
    "            #set () facilitates O(1) time complexity for look up\n",
    "            self.prices = set()\n",
    "            for each in self.rows:\n",
    "                self.prices.add(each[-1])\n",
    "            self.rows_by_price = sorted(self.rows, key=row_price)\n",
    "            \n",
    "    \n",
    "    \n",
    "    # a method to retrieve a row that matches a given laptop_id            \n",
    "    def get_laptop_from_id(self, laptop_id):\n",
    "        for each in self.rows:\n",
    "            if laptop_id == each[0]:\n",
    "                return each        \n",
    "        return None\n",
    "    \n",
    "    \n",
    "    # an improved methid to retrieve laptop id\n",
    "    def get_laptop_from_id_fast(self, laptop_id):\n",
    "        if laptop_id in self.id_to_row:\n",
    "            return self.id_to_row[laptop_id]\n",
    "        return None\n",
    "    \n",
    "    #Given Gift card, check whther it is possible to spend the \n",
    "    #enitre amount for atmost two latops\n",
    "    def check_promotion_dollars(self, dollars):\n",
    "        for each in self.rows:\n",
    "            # if gift equals one laptop price\n",
    "            if dollars == each[-1]:\n",
    "                return True\n",
    "            #if two laptop adds uptop one laptop price\n",
    "        for each1 in self.rows:\n",
    "            for each2 in self.rows:\n",
    "                if each1[-1] + each2[-1] == dollars:\n",
    "                    return True\n",
    "        return False\n",
    "    \n",
    "    #a faster method which has one for loop and a data  in set()\n",
    "    def check_promotion_dollars_fast(self, dollars):\n",
    "        for each in self.rows:\n",
    "            # if gift equals one laptop price\n",
    "            if dollars in self.prices:\n",
    "                return True\n",
    "        #if two laptop adds upto one laptop price and in set()\n",
    "        for price  in self.prices:\n",
    "            if dollars - price in self.prices:\n",
    "                return True\n",
    "        return False\n",
    "\n",
    "    #a method to look for laptops below a given price\n",
    "    def find_first_laptop_more_expensive(self, target_price):\n",
    "        range_start = 0                                   \n",
    "        range_end = len(self.rows_by_price) - 1                   \n",
    "        while range_start < range_end:\n",
    "            range_middle = (range_end + range_start) // 2  \n",
    "            price = self.rows_by_price[range_middle][-1]\n",
    "            if price > target_price:\n",
    "                range_end = range_middle\n",
    "            else:\n",
    "                range_start = range_middle + 1\n",
    "        if self.rows_by_price[range_start][-1] <= target_price:                  \n",
    "            return -1                                   \n",
    "        return range_start"
   ]
  },
  {
   "cell_type": "code",
   "execution_count": 38,
   "metadata": {},
   "outputs": [
    {
     "name": "stdout",
     "output_type": "stream",
     "text": [
      "683\n",
      "-1\n"
     ]
    }
   ],
   "source": [
    "inventory = Inventory('laptops.csv')                                \n",
    "print(inventory.find_first_laptop_more_expensive(1000))  \n",
    "print(inventory.find_first_laptop_more_expensive(10000)) "
   ]
  }
 ],
 "metadata": {
  "kernelspec": {
   "display_name": "Python 3",
   "language": "python",
   "name": "python3"
  },
  "language_info": {
   "codemirror_mode": {
    "name": "ipython",
    "version": 3
   },
   "file_extension": ".py",
   "mimetype": "text/x-python",
   "name": "python",
   "nbconvert_exporter": "python",
   "pygments_lexer": "ipython3",
   "version": "3.8.2"
  }
 },
 "nbformat": 4,
 "nbformat_minor": 2
}
