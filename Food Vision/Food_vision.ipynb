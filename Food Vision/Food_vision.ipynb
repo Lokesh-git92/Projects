{
  "nbformat": 4,
  "nbformat_minor": 0,
  "metadata": {
    "colab": {
      "provenance": []
    },
    "kernelspec": {
      "name": "python3",
      "display_name": "Python 3"
    },
    "language_info": {
      "name": "python"
    },
    "accelerator": "GPU",
    "widgets": {
      "application/vnd.jupyter.widget-state+json": {
        "e92785644ee641dfb482dde9d895325c": {
          "model_module": "@jupyter-widgets/controls",
          "model_name": "HBoxModel",
          "model_module_version": "1.5.0",
          "state": {
            "_dom_classes": [],
            "_model_module": "@jupyter-widgets/controls",
            "_model_module_version": "1.5.0",
            "_model_name": "HBoxModel",
            "_view_count": null,
            "_view_module": "@jupyter-widgets/controls",
            "_view_module_version": "1.5.0",
            "_view_name": "HBoxView",
            "box_style": "",
            "children": [
              "IPY_MODEL_ffffacc0419542598d9ea0c3ba95ee53",
              "IPY_MODEL_a80e2b00eff646c1917affc0912bc588",
              "IPY_MODEL_226820930c284c87b956b62b205ebaaa"
            ],
            "layout": "IPY_MODEL_5945ecd6fdf2490d98601a790e985f73"
          }
        },
        "ffffacc0419542598d9ea0c3ba95ee53": {
          "model_module": "@jupyter-widgets/controls",
          "model_name": "HTMLModel",
          "model_module_version": "1.5.0",
          "state": {
            "_dom_classes": [],
            "_model_module": "@jupyter-widgets/controls",
            "_model_module_version": "1.5.0",
            "_model_name": "HTMLModel",
            "_view_count": null,
            "_view_module": "@jupyter-widgets/controls",
            "_view_module_version": "1.5.0",
            "_view_name": "HTMLView",
            "description": "",
            "description_tooltip": null,
            "layout": "IPY_MODEL_9eb77791cec14441ad0c656e23939525",
            "placeholder": "​",
            "style": "IPY_MODEL_9cfeeca1a86948eabc55da19f9627cbc",
            "value": "Dl Completed...: 100%"
          }
        },
        "a80e2b00eff646c1917affc0912bc588": {
          "model_module": "@jupyter-widgets/controls",
          "model_name": "FloatProgressModel",
          "model_module_version": "1.5.0",
          "state": {
            "_dom_classes": [],
            "_model_module": "@jupyter-widgets/controls",
            "_model_module_version": "1.5.0",
            "_model_name": "FloatProgressModel",
            "_view_count": null,
            "_view_module": "@jupyter-widgets/controls",
            "_view_module_version": "1.5.0",
            "_view_name": "ProgressView",
            "bar_style": "success",
            "description": "",
            "description_tooltip": null,
            "layout": "IPY_MODEL_51d5290aa38e498180a18b4f569c528a",
            "max": 1,
            "min": 0,
            "orientation": "horizontal",
            "style": "IPY_MODEL_5d10b003394c4294a48ef5e0ab2dc52b",
            "value": 1
          }
        },
        "226820930c284c87b956b62b205ebaaa": {
          "model_module": "@jupyter-widgets/controls",
          "model_name": "HTMLModel",
          "model_module_version": "1.5.0",
          "state": {
            "_dom_classes": [],
            "_model_module": "@jupyter-widgets/controls",
            "_model_module_version": "1.5.0",
            "_model_name": "HTMLModel",
            "_view_count": null,
            "_view_module": "@jupyter-widgets/controls",
            "_view_module_version": "1.5.0",
            "_view_name": "HTMLView",
            "description": "",
            "description_tooltip": null,
            "layout": "IPY_MODEL_0c4e0f7906a64d3c99a045cd986e51db",
            "placeholder": "​",
            "style": "IPY_MODEL_b758db72a72f47beb138b1bc70801bed",
            "value": " 1/1 [05:39&lt;00:00, 261.72s/ url]"
          }
        },
        "5945ecd6fdf2490d98601a790e985f73": {
          "model_module": "@jupyter-widgets/base",
          "model_name": "LayoutModel",
          "model_module_version": "1.2.0",
          "state": {
            "_model_module": "@jupyter-widgets/base",
            "_model_module_version": "1.2.0",
            "_model_name": "LayoutModel",
            "_view_count": null,
            "_view_module": "@jupyter-widgets/base",
            "_view_module_version": "1.2.0",
            "_view_name": "LayoutView",
            "align_content": null,
            "align_items": null,
            "align_self": null,
            "border": null,
            "bottom": null,
            "display": null,
            "flex": null,
            "flex_flow": null,
            "grid_area": null,
            "grid_auto_columns": null,
            "grid_auto_flow": null,
            "grid_auto_rows": null,
            "grid_column": null,
            "grid_gap": null,
            "grid_row": null,
            "grid_template_areas": null,
            "grid_template_columns": null,
            "grid_template_rows": null,
            "height": null,
            "justify_content": null,
            "justify_items": null,
            "left": null,
            "margin": null,
            "max_height": null,
            "max_width": null,
            "min_height": null,
            "min_width": null,
            "object_fit": null,
            "object_position": null,
            "order": null,
            "overflow": null,
            "overflow_x": null,
            "overflow_y": null,
            "padding": null,
            "right": null,
            "top": null,
            "visibility": null,
            "width": null
          }
        },
        "9eb77791cec14441ad0c656e23939525": {
          "model_module": "@jupyter-widgets/base",
          "model_name": "LayoutModel",
          "model_module_version": "1.2.0",
          "state": {
            "_model_module": "@jupyter-widgets/base",
            "_model_module_version": "1.2.0",
            "_model_name": "LayoutModel",
            "_view_count": null,
            "_view_module": "@jupyter-widgets/base",
            "_view_module_version": "1.2.0",
            "_view_name": "LayoutView",
            "align_content": null,
            "align_items": null,
            "align_self": null,
            "border": null,
            "bottom": null,
            "display": null,
            "flex": null,
            "flex_flow": null,
            "grid_area": null,
            "grid_auto_columns": null,
            "grid_auto_flow": null,
            "grid_auto_rows": null,
            "grid_column": null,
            "grid_gap": null,
            "grid_row": null,
            "grid_template_areas": null,
            "grid_template_columns": null,
            "grid_template_rows": null,
            "height": null,
            "justify_content": null,
            "justify_items": null,
            "left": null,
            "margin": null,
            "max_height": null,
            "max_width": null,
            "min_height": null,
            "min_width": null,
            "object_fit": null,
            "object_position": null,
            "order": null,
            "overflow": null,
            "overflow_x": null,
            "overflow_y": null,
            "padding": null,
            "right": null,
            "top": null,
            "visibility": null,
            "width": null
          }
        },
        "9cfeeca1a86948eabc55da19f9627cbc": {
          "model_module": "@jupyter-widgets/controls",
          "model_name": "DescriptionStyleModel",
          "model_module_version": "1.5.0",
          "state": {
            "_model_module": "@jupyter-widgets/controls",
            "_model_module_version": "1.5.0",
            "_model_name": "DescriptionStyleModel",
            "_view_count": null,
            "_view_module": "@jupyter-widgets/base",
            "_view_module_version": "1.2.0",
            "_view_name": "StyleView",
            "description_width": ""
          }
        },
        "51d5290aa38e498180a18b4f569c528a": {
          "model_module": "@jupyter-widgets/base",
          "model_name": "LayoutModel",
          "model_module_version": "1.2.0",
          "state": {
            "_model_module": "@jupyter-widgets/base",
            "_model_module_version": "1.2.0",
            "_model_name": "LayoutModel",
            "_view_count": null,
            "_view_module": "@jupyter-widgets/base",
            "_view_module_version": "1.2.0",
            "_view_name": "LayoutView",
            "align_content": null,
            "align_items": null,
            "align_self": null,
            "border": null,
            "bottom": null,
            "display": null,
            "flex": null,
            "flex_flow": null,
            "grid_area": null,
            "grid_auto_columns": null,
            "grid_auto_flow": null,
            "grid_auto_rows": null,
            "grid_column": null,
            "grid_gap": null,
            "grid_row": null,
            "grid_template_areas": null,
            "grid_template_columns": null,
            "grid_template_rows": null,
            "height": null,
            "justify_content": null,
            "justify_items": null,
            "left": null,
            "margin": null,
            "max_height": null,
            "max_width": null,
            "min_height": null,
            "min_width": null,
            "object_fit": null,
            "object_position": null,
            "order": null,
            "overflow": null,
            "overflow_x": null,
            "overflow_y": null,
            "padding": null,
            "right": null,
            "top": null,
            "visibility": null,
            "width": "20px"
          }
        },
        "5d10b003394c4294a48ef5e0ab2dc52b": {
          "model_module": "@jupyter-widgets/controls",
          "model_name": "ProgressStyleModel",
          "model_module_version": "1.5.0",
          "state": {
            "_model_module": "@jupyter-widgets/controls",
            "_model_module_version": "1.5.0",
            "_model_name": "ProgressStyleModel",
            "_view_count": null,
            "_view_module": "@jupyter-widgets/base",
            "_view_module_version": "1.2.0",
            "_view_name": "StyleView",
            "bar_color": null,
            "description_width": ""
          }
        },
        "0c4e0f7906a64d3c99a045cd986e51db": {
          "model_module": "@jupyter-widgets/base",
          "model_name": "LayoutModel",
          "model_module_version": "1.2.0",
          "state": {
            "_model_module": "@jupyter-widgets/base",
            "_model_module_version": "1.2.0",
            "_model_name": "LayoutModel",
            "_view_count": null,
            "_view_module": "@jupyter-widgets/base",
            "_view_module_version": "1.2.0",
            "_view_name": "LayoutView",
            "align_content": null,
            "align_items": null,
            "align_self": null,
            "border": null,
            "bottom": null,
            "display": null,
            "flex": null,
            "flex_flow": null,
            "grid_area": null,
            "grid_auto_columns": null,
            "grid_auto_flow": null,
            "grid_auto_rows": null,
            "grid_column": null,
            "grid_gap": null,
            "grid_row": null,
            "grid_template_areas": null,
            "grid_template_columns": null,
            "grid_template_rows": null,
            "height": null,
            "justify_content": null,
            "justify_items": null,
            "left": null,
            "margin": null,
            "max_height": null,
            "max_width": null,
            "min_height": null,
            "min_width": null,
            "object_fit": null,
            "object_position": null,
            "order": null,
            "overflow": null,
            "overflow_x": null,
            "overflow_y": null,
            "padding": null,
            "right": null,
            "top": null,
            "visibility": null,
            "width": null
          }
        },
        "b758db72a72f47beb138b1bc70801bed": {
          "model_module": "@jupyter-widgets/controls",
          "model_name": "DescriptionStyleModel",
          "model_module_version": "1.5.0",
          "state": {
            "_model_module": "@jupyter-widgets/controls",
            "_model_module_version": "1.5.0",
            "_model_name": "DescriptionStyleModel",
            "_view_count": null,
            "_view_module": "@jupyter-widgets/base",
            "_view_module_version": "1.2.0",
            "_view_name": "StyleView",
            "description_width": ""
          }
        },
        "4c53271296954df29ca8440dec5271ea": {
          "model_module": "@jupyter-widgets/controls",
          "model_name": "HBoxModel",
          "model_module_version": "1.5.0",
          "state": {
            "_dom_classes": [],
            "_model_module": "@jupyter-widgets/controls",
            "_model_module_version": "1.5.0",
            "_model_name": "HBoxModel",
            "_view_count": null,
            "_view_module": "@jupyter-widgets/controls",
            "_view_module_version": "1.5.0",
            "_view_name": "HBoxView",
            "box_style": "",
            "children": [
              "IPY_MODEL_4258ffb13bc94f0f919eaffd8fc54ccb",
              "IPY_MODEL_b91a2e2366bf41198d631f1a13396a45",
              "IPY_MODEL_c267b8e950a44267920f556eeffed38f"
            ],
            "layout": "IPY_MODEL_e454408992f94f3d8aacc2a580f83717"
          }
        },
        "4258ffb13bc94f0f919eaffd8fc54ccb": {
          "model_module": "@jupyter-widgets/controls",
          "model_name": "HTMLModel",
          "model_module_version": "1.5.0",
          "state": {
            "_dom_classes": [],
            "_model_module": "@jupyter-widgets/controls",
            "_model_module_version": "1.5.0",
            "_model_name": "HTMLModel",
            "_view_count": null,
            "_view_module": "@jupyter-widgets/controls",
            "_view_module_version": "1.5.0",
            "_view_name": "HTMLView",
            "description": "",
            "description_tooltip": null,
            "layout": "IPY_MODEL_302e34bb20ef4c6389f5c77299eb2db4",
            "placeholder": "​",
            "style": "IPY_MODEL_114e8c6c132e408ea5519e0d6ad8597b",
            "value": "Dl Size...: 100%"
          }
        },
        "b91a2e2366bf41198d631f1a13396a45": {
          "model_module": "@jupyter-widgets/controls",
          "model_name": "FloatProgressModel",
          "model_module_version": "1.5.0",
          "state": {
            "_dom_classes": [],
            "_model_module": "@jupyter-widgets/controls",
            "_model_module_version": "1.5.0",
            "_model_name": "FloatProgressModel",
            "_view_count": null,
            "_view_module": "@jupyter-widgets/controls",
            "_view_module_version": "1.5.0",
            "_view_name": "ProgressView",
            "bar_style": "success",
            "description": "",
            "description_tooltip": null,
            "layout": "IPY_MODEL_eacd51ae6e2d450fac374f7ebc65901b",
            "max": 1,
            "min": 0,
            "orientation": "horizontal",
            "style": "IPY_MODEL_3b4738d747bc42a491287b5e0538a0fd",
            "value": 1
          }
        },
        "c267b8e950a44267920f556eeffed38f": {
          "model_module": "@jupyter-widgets/controls",
          "model_name": "HTMLModel",
          "model_module_version": "1.5.0",
          "state": {
            "_dom_classes": [],
            "_model_module": "@jupyter-widgets/controls",
            "_model_module_version": "1.5.0",
            "_model_name": "HTMLModel",
            "_view_count": null,
            "_view_module": "@jupyter-widgets/controls",
            "_view_module_version": "1.5.0",
            "_view_name": "HTMLView",
            "description": "",
            "description_tooltip": null,
            "layout": "IPY_MODEL_58014d21987044d59ad5fa449be56d84",
            "placeholder": "​",
            "style": "IPY_MODEL_a4b345e473f14cc690202cd52451a461",
            "value": " 4764/4764 [05:39&lt;00:00, 18.77 MiB/s]"
          }
        },
        "e454408992f94f3d8aacc2a580f83717": {
          "model_module": "@jupyter-widgets/base",
          "model_name": "LayoutModel",
          "model_module_version": "1.2.0",
          "state": {
            "_model_module": "@jupyter-widgets/base",
            "_model_module_version": "1.2.0",
            "_model_name": "LayoutModel",
            "_view_count": null,
            "_view_module": "@jupyter-widgets/base",
            "_view_module_version": "1.2.0",
            "_view_name": "LayoutView",
            "align_content": null,
            "align_items": null,
            "align_self": null,
            "border": null,
            "bottom": null,
            "display": null,
            "flex": null,
            "flex_flow": null,
            "grid_area": null,
            "grid_auto_columns": null,
            "grid_auto_flow": null,
            "grid_auto_rows": null,
            "grid_column": null,
            "grid_gap": null,
            "grid_row": null,
            "grid_template_areas": null,
            "grid_template_columns": null,
            "grid_template_rows": null,
            "height": null,
            "justify_content": null,
            "justify_items": null,
            "left": null,
            "margin": null,
            "max_height": null,
            "max_width": null,
            "min_height": null,
            "min_width": null,
            "object_fit": null,
            "object_position": null,
            "order": null,
            "overflow": null,
            "overflow_x": null,
            "overflow_y": null,
            "padding": null,
            "right": null,
            "top": null,
            "visibility": null,
            "width": null
          }
        },
        "302e34bb20ef4c6389f5c77299eb2db4": {
          "model_module": "@jupyter-widgets/base",
          "model_name": "LayoutModel",
          "model_module_version": "1.2.0",
          "state": {
            "_model_module": "@jupyter-widgets/base",
            "_model_module_version": "1.2.0",
            "_model_name": "LayoutModel",
            "_view_count": null,
            "_view_module": "@jupyter-widgets/base",
            "_view_module_version": "1.2.0",
            "_view_name": "LayoutView",
            "align_content": null,
            "align_items": null,
            "align_self": null,
            "border": null,
            "bottom": null,
            "display": null,
            "flex": null,
            "flex_flow": null,
            "grid_area": null,
            "grid_auto_columns": null,
            "grid_auto_flow": null,
            "grid_auto_rows": null,
            "grid_column": null,
            "grid_gap": null,
            "grid_row": null,
            "grid_template_areas": null,
            "grid_template_columns": null,
            "grid_template_rows": null,
            "height": null,
            "justify_content": null,
            "justify_items": null,
            "left": null,
            "margin": null,
            "max_height": null,
            "max_width": null,
            "min_height": null,
            "min_width": null,
            "object_fit": null,
            "object_position": null,
            "order": null,
            "overflow": null,
            "overflow_x": null,
            "overflow_y": null,
            "padding": null,
            "right": null,
            "top": null,
            "visibility": null,
            "width": null
          }
        },
        "114e8c6c132e408ea5519e0d6ad8597b": {
          "model_module": "@jupyter-widgets/controls",
          "model_name": "DescriptionStyleModel",
          "model_module_version": "1.5.0",
          "state": {
            "_model_module": "@jupyter-widgets/controls",
            "_model_module_version": "1.5.0",
            "_model_name": "DescriptionStyleModel",
            "_view_count": null,
            "_view_module": "@jupyter-widgets/base",
            "_view_module_version": "1.2.0",
            "_view_name": "StyleView",
            "description_width": ""
          }
        },
        "eacd51ae6e2d450fac374f7ebc65901b": {
          "model_module": "@jupyter-widgets/base",
          "model_name": "LayoutModel",
          "model_module_version": "1.2.0",
          "state": {
            "_model_module": "@jupyter-widgets/base",
            "_model_module_version": "1.2.0",
            "_model_name": "LayoutModel",
            "_view_count": null,
            "_view_module": "@jupyter-widgets/base",
            "_view_module_version": "1.2.0",
            "_view_name": "LayoutView",
            "align_content": null,
            "align_items": null,
            "align_self": null,
            "border": null,
            "bottom": null,
            "display": null,
            "flex": null,
            "flex_flow": null,
            "grid_area": null,
            "grid_auto_columns": null,
            "grid_auto_flow": null,
            "grid_auto_rows": null,
            "grid_column": null,
            "grid_gap": null,
            "grid_row": null,
            "grid_template_areas": null,
            "grid_template_columns": null,
            "grid_template_rows": null,
            "height": null,
            "justify_content": null,
            "justify_items": null,
            "left": null,
            "margin": null,
            "max_height": null,
            "max_width": null,
            "min_height": null,
            "min_width": null,
            "object_fit": null,
            "object_position": null,
            "order": null,
            "overflow": null,
            "overflow_x": null,
            "overflow_y": null,
            "padding": null,
            "right": null,
            "top": null,
            "visibility": null,
            "width": "20px"
          }
        },
        "3b4738d747bc42a491287b5e0538a0fd": {
          "model_module": "@jupyter-widgets/controls",
          "model_name": "ProgressStyleModel",
          "model_module_version": "1.5.0",
          "state": {
            "_model_module": "@jupyter-widgets/controls",
            "_model_module_version": "1.5.0",
            "_model_name": "ProgressStyleModel",
            "_view_count": null,
            "_view_module": "@jupyter-widgets/base",
            "_view_module_version": "1.2.0",
            "_view_name": "StyleView",
            "bar_color": null,
            "description_width": ""
          }
        },
        "58014d21987044d59ad5fa449be56d84": {
          "model_module": "@jupyter-widgets/base",
          "model_name": "LayoutModel",
          "model_module_version": "1.2.0",
          "state": {
            "_model_module": "@jupyter-widgets/base",
            "_model_module_version": "1.2.0",
            "_model_name": "LayoutModel",
            "_view_count": null,
            "_view_module": "@jupyter-widgets/base",
            "_view_module_version": "1.2.0",
            "_view_name": "LayoutView",
            "align_content": null,
            "align_items": null,
            "align_self": null,
            "border": null,
            "bottom": null,
            "display": null,
            "flex": null,
            "flex_flow": null,
            "grid_area": null,
            "grid_auto_columns": null,
            "grid_auto_flow": null,
            "grid_auto_rows": null,
            "grid_column": null,
            "grid_gap": null,
            "grid_row": null,
            "grid_template_areas": null,
            "grid_template_columns": null,
            "grid_template_rows": null,
            "height": null,
            "justify_content": null,
            "justify_items": null,
            "left": null,
            "margin": null,
            "max_height": null,
            "max_width": null,
            "min_height": null,
            "min_width": null,
            "object_fit": null,
            "object_position": null,
            "order": null,
            "overflow": null,
            "overflow_x": null,
            "overflow_y": null,
            "padding": null,
            "right": null,
            "top": null,
            "visibility": null,
            "width": null
          }
        },
        "a4b345e473f14cc690202cd52451a461": {
          "model_module": "@jupyter-widgets/controls",
          "model_name": "DescriptionStyleModel",
          "model_module_version": "1.5.0",
          "state": {
            "_model_module": "@jupyter-widgets/controls",
            "_model_module_version": "1.5.0",
            "_model_name": "DescriptionStyleModel",
            "_view_count": null,
            "_view_module": "@jupyter-widgets/base",
            "_view_module_version": "1.2.0",
            "_view_name": "StyleView",
            "description_width": ""
          }
        },
        "249695624fef4efc8df4e638d5d1432b": {
          "model_module": "@jupyter-widgets/controls",
          "model_name": "HBoxModel",
          "model_module_version": "1.5.0",
          "state": {
            "_dom_classes": [],
            "_model_module": "@jupyter-widgets/controls",
            "_model_module_version": "1.5.0",
            "_model_name": "HBoxModel",
            "_view_count": null,
            "_view_module": "@jupyter-widgets/controls",
            "_view_module_version": "1.5.0",
            "_view_name": "HBoxView",
            "box_style": "",
            "children": [
              "IPY_MODEL_bc526322fff54b29a8c574966b82c30f",
              "IPY_MODEL_6239dc9f526746898186767ca3f1220b",
              "IPY_MODEL_88ca1b09ad9b4b1b81e3b6b8d464e339"
            ],
            "layout": "IPY_MODEL_803d3c8920c649139de7ac69ec2f2ae2"
          }
        },
        "bc526322fff54b29a8c574966b82c30f": {
          "model_module": "@jupyter-widgets/controls",
          "model_name": "HTMLModel",
          "model_module_version": "1.5.0",
          "state": {
            "_dom_classes": [],
            "_model_module": "@jupyter-widgets/controls",
            "_model_module_version": "1.5.0",
            "_model_name": "HTMLModel",
            "_view_count": null,
            "_view_module": "@jupyter-widgets/controls",
            "_view_module_version": "1.5.0",
            "_view_name": "HTMLView",
            "description": "",
            "description_tooltip": null,
            "layout": "IPY_MODEL_7058a9ba4daf457d8af20fa5487a9b08",
            "placeholder": "​",
            "style": "IPY_MODEL_f484e1138f6149ea80d7bdaa0883ea86",
            "value": "Extraction completed...: 100%"
          }
        },
        "6239dc9f526746898186767ca3f1220b": {
          "model_module": "@jupyter-widgets/controls",
          "model_name": "FloatProgressModel",
          "model_module_version": "1.5.0",
          "state": {
            "_dom_classes": [],
            "_model_module": "@jupyter-widgets/controls",
            "_model_module_version": "1.5.0",
            "_model_name": "FloatProgressModel",
            "_view_count": null,
            "_view_module": "@jupyter-widgets/controls",
            "_view_module_version": "1.5.0",
            "_view_name": "ProgressView",
            "bar_style": "success",
            "description": "",
            "description_tooltip": null,
            "layout": "IPY_MODEL_ddeedb7175284a288528c3f43471e82b",
            "max": 1,
            "min": 0,
            "orientation": "horizontal",
            "style": "IPY_MODEL_3521fc50d66e437f8de1de60879749c7",
            "value": 1
          }
        },
        "88ca1b09ad9b4b1b81e3b6b8d464e339": {
          "model_module": "@jupyter-widgets/controls",
          "model_name": "HTMLModel",
          "model_module_version": "1.5.0",
          "state": {
            "_dom_classes": [],
            "_model_module": "@jupyter-widgets/controls",
            "_model_module_version": "1.5.0",
            "_model_name": "HTMLModel",
            "_view_count": null,
            "_view_module": "@jupyter-widgets/controls",
            "_view_module_version": "1.5.0",
            "_view_name": "HTMLView",
            "description": "",
            "description_tooltip": null,
            "layout": "IPY_MODEL_7fab02b2d50f4cf98130958b03e961be",
            "placeholder": "​",
            "style": "IPY_MODEL_026d66a1fbba4d2fb8d239f6e617929a",
            "value": " 1/1 [05:39&lt;00:00, 339.31s/ file]"
          }
        },
        "803d3c8920c649139de7ac69ec2f2ae2": {
          "model_module": "@jupyter-widgets/base",
          "model_name": "LayoutModel",
          "model_module_version": "1.2.0",
          "state": {
            "_model_module": "@jupyter-widgets/base",
            "_model_module_version": "1.2.0",
            "_model_name": "LayoutModel",
            "_view_count": null,
            "_view_module": "@jupyter-widgets/base",
            "_view_module_version": "1.2.0",
            "_view_name": "LayoutView",
            "align_content": null,
            "align_items": null,
            "align_self": null,
            "border": null,
            "bottom": null,
            "display": null,
            "flex": null,
            "flex_flow": null,
            "grid_area": null,
            "grid_auto_columns": null,
            "grid_auto_flow": null,
            "grid_auto_rows": null,
            "grid_column": null,
            "grid_gap": null,
            "grid_row": null,
            "grid_template_areas": null,
            "grid_template_columns": null,
            "grid_template_rows": null,
            "height": null,
            "justify_content": null,
            "justify_items": null,
            "left": null,
            "margin": null,
            "max_height": null,
            "max_width": null,
            "min_height": null,
            "min_width": null,
            "object_fit": null,
            "object_position": null,
            "order": null,
            "overflow": null,
            "overflow_x": null,
            "overflow_y": null,
            "padding": null,
            "right": null,
            "top": null,
            "visibility": null,
            "width": null
          }
        },
        "7058a9ba4daf457d8af20fa5487a9b08": {
          "model_module": "@jupyter-widgets/base",
          "model_name": "LayoutModel",
          "model_module_version": "1.2.0",
          "state": {
            "_model_module": "@jupyter-widgets/base",
            "_model_module_version": "1.2.0",
            "_model_name": "LayoutModel",
            "_view_count": null,
            "_view_module": "@jupyter-widgets/base",
            "_view_module_version": "1.2.0",
            "_view_name": "LayoutView",
            "align_content": null,
            "align_items": null,
            "align_self": null,
            "border": null,
            "bottom": null,
            "display": null,
            "flex": null,
            "flex_flow": null,
            "grid_area": null,
            "grid_auto_columns": null,
            "grid_auto_flow": null,
            "grid_auto_rows": null,
            "grid_column": null,
            "grid_gap": null,
            "grid_row": null,
            "grid_template_areas": null,
            "grid_template_columns": null,
            "grid_template_rows": null,
            "height": null,
            "justify_content": null,
            "justify_items": null,
            "left": null,
            "margin": null,
            "max_height": null,
            "max_width": null,
            "min_height": null,
            "min_width": null,
            "object_fit": null,
            "object_position": null,
            "order": null,
            "overflow": null,
            "overflow_x": null,
            "overflow_y": null,
            "padding": null,
            "right": null,
            "top": null,
            "visibility": null,
            "width": null
          }
        },
        "f484e1138f6149ea80d7bdaa0883ea86": {
          "model_module": "@jupyter-widgets/controls",
          "model_name": "DescriptionStyleModel",
          "model_module_version": "1.5.0",
          "state": {
            "_model_module": "@jupyter-widgets/controls",
            "_model_module_version": "1.5.0",
            "_model_name": "DescriptionStyleModel",
            "_view_count": null,
            "_view_module": "@jupyter-widgets/base",
            "_view_module_version": "1.2.0",
            "_view_name": "StyleView",
            "description_width": ""
          }
        },
        "ddeedb7175284a288528c3f43471e82b": {
          "model_module": "@jupyter-widgets/base",
          "model_name": "LayoutModel",
          "model_module_version": "1.2.0",
          "state": {
            "_model_module": "@jupyter-widgets/base",
            "_model_module_version": "1.2.0",
            "_model_name": "LayoutModel",
            "_view_count": null,
            "_view_module": "@jupyter-widgets/base",
            "_view_module_version": "1.2.0",
            "_view_name": "LayoutView",
            "align_content": null,
            "align_items": null,
            "align_self": null,
            "border": null,
            "bottom": null,
            "display": null,
            "flex": null,
            "flex_flow": null,
            "grid_area": null,
            "grid_auto_columns": null,
            "grid_auto_flow": null,
            "grid_auto_rows": null,
            "grid_column": null,
            "grid_gap": null,
            "grid_row": null,
            "grid_template_areas": null,
            "grid_template_columns": null,
            "grid_template_rows": null,
            "height": null,
            "justify_content": null,
            "justify_items": null,
            "left": null,
            "margin": null,
            "max_height": null,
            "max_width": null,
            "min_height": null,
            "min_width": null,
            "object_fit": null,
            "object_position": null,
            "order": null,
            "overflow": null,
            "overflow_x": null,
            "overflow_y": null,
            "padding": null,
            "right": null,
            "top": null,
            "visibility": null,
            "width": "20px"
          }
        },
        "3521fc50d66e437f8de1de60879749c7": {
          "model_module": "@jupyter-widgets/controls",
          "model_name": "ProgressStyleModel",
          "model_module_version": "1.5.0",
          "state": {
            "_model_module": "@jupyter-widgets/controls",
            "_model_module_version": "1.5.0",
            "_model_name": "ProgressStyleModel",
            "_view_count": null,
            "_view_module": "@jupyter-widgets/base",
            "_view_module_version": "1.2.0",
            "_view_name": "StyleView",
            "bar_color": null,
            "description_width": ""
          }
        },
        "7fab02b2d50f4cf98130958b03e961be": {
          "model_module": "@jupyter-widgets/base",
          "model_name": "LayoutModel",
          "model_module_version": "1.2.0",
          "state": {
            "_model_module": "@jupyter-widgets/base",
            "_model_module_version": "1.2.0",
            "_model_name": "LayoutModel",
            "_view_count": null,
            "_view_module": "@jupyter-widgets/base",
            "_view_module_version": "1.2.0",
            "_view_name": "LayoutView",
            "align_content": null,
            "align_items": null,
            "align_self": null,
            "border": null,
            "bottom": null,
            "display": null,
            "flex": null,
            "flex_flow": null,
            "grid_area": null,
            "grid_auto_columns": null,
            "grid_auto_flow": null,
            "grid_auto_rows": null,
            "grid_column": null,
            "grid_gap": null,
            "grid_row": null,
            "grid_template_areas": null,
            "grid_template_columns": null,
            "grid_template_rows": null,
            "height": null,
            "justify_content": null,
            "justify_items": null,
            "left": null,
            "margin": null,
            "max_height": null,
            "max_width": null,
            "min_height": null,
            "min_width": null,
            "object_fit": null,
            "object_position": null,
            "order": null,
            "overflow": null,
            "overflow_x": null,
            "overflow_y": null,
            "padding": null,
            "right": null,
            "top": null,
            "visibility": null,
            "width": null
          }
        },
        "026d66a1fbba4d2fb8d239f6e617929a": {
          "model_module": "@jupyter-widgets/controls",
          "model_name": "DescriptionStyleModel",
          "model_module_version": "1.5.0",
          "state": {
            "_model_module": "@jupyter-widgets/controls",
            "_model_module_version": "1.5.0",
            "_model_name": "DescriptionStyleModel",
            "_view_count": null,
            "_view_module": "@jupyter-widgets/base",
            "_view_module_version": "1.2.0",
            "_view_name": "StyleView",
            "description_width": ""
          }
        },
        "220c85e3dfbd4fc89fa4826649e6dca3": {
          "model_module": "@jupyter-widgets/controls",
          "model_name": "HBoxModel",
          "model_module_version": "1.5.0",
          "state": {
            "_dom_classes": [],
            "_model_module": "@jupyter-widgets/controls",
            "_model_module_version": "1.5.0",
            "_model_name": "HBoxModel",
            "_view_count": null,
            "_view_module": "@jupyter-widgets/controls",
            "_view_module_version": "1.5.0",
            "_view_name": "HBoxView",
            "box_style": "",
            "children": [
              "IPY_MODEL_615664187d8c45a2b949c399a57150cb",
              "IPY_MODEL_96f0ed6189044c0ea1e5c09aa4b3f5a4",
              "IPY_MODEL_4ae0418b1c5746d9a4a2535e24592a20"
            ],
            "layout": "IPY_MODEL_ff1f3323d1374227892c9357d0a39fd4"
          }
        },
        "615664187d8c45a2b949c399a57150cb": {
          "model_module": "@jupyter-widgets/controls",
          "model_name": "HTMLModel",
          "model_module_version": "1.5.0",
          "state": {
            "_dom_classes": [],
            "_model_module": "@jupyter-widgets/controls",
            "_model_module_version": "1.5.0",
            "_model_name": "HTMLModel",
            "_view_count": null,
            "_view_module": "@jupyter-widgets/controls",
            "_view_module_version": "1.5.0",
            "_view_name": "HTMLView",
            "description": "",
            "description_tooltip": null,
            "layout": "IPY_MODEL_60538cb996df4cd89ba77474570c8559",
            "placeholder": "​",
            "style": "IPY_MODEL_dd72ed5b4c7f4c328a67161707eeca0a",
            "value": "Generating splits...: 100%"
          }
        },
        "96f0ed6189044c0ea1e5c09aa4b3f5a4": {
          "model_module": "@jupyter-widgets/controls",
          "model_name": "FloatProgressModel",
          "model_module_version": "1.5.0",
          "state": {
            "_dom_classes": [],
            "_model_module": "@jupyter-widgets/controls",
            "_model_module_version": "1.5.0",
            "_model_name": "FloatProgressModel",
            "_view_count": null,
            "_view_module": "@jupyter-widgets/controls",
            "_view_module_version": "1.5.0",
            "_view_name": "ProgressView",
            "bar_style": "",
            "description": "",
            "description_tooltip": null,
            "layout": "IPY_MODEL_bb678b7e4905493289f2aba776f8080f",
            "max": 2,
            "min": 0,
            "orientation": "horizontal",
            "style": "IPY_MODEL_bb477f4c494a4944bd7c143a5d7abd54",
            "value": 2
          }
        },
        "4ae0418b1c5746d9a4a2535e24592a20": {
          "model_module": "@jupyter-widgets/controls",
          "model_name": "HTMLModel",
          "model_module_version": "1.5.0",
          "state": {
            "_dom_classes": [],
            "_model_module": "@jupyter-widgets/controls",
            "_model_module_version": "1.5.0",
            "_model_name": "HTMLModel",
            "_view_count": null,
            "_view_module": "@jupyter-widgets/controls",
            "_view_module_version": "1.5.0",
            "_view_name": "HTMLView",
            "description": "",
            "description_tooltip": null,
            "layout": "IPY_MODEL_2ed4e3db82a34bd797d2bb6d18de79fe",
            "placeholder": "​",
            "style": "IPY_MODEL_33b6e95cef23416dbb80674de575fc8d",
            "value": " 2/2 [03:26&lt;00:00, 96.05s/ splits]"
          }
        },
        "ff1f3323d1374227892c9357d0a39fd4": {
          "model_module": "@jupyter-widgets/base",
          "model_name": "LayoutModel",
          "model_module_version": "1.2.0",
          "state": {
            "_model_module": "@jupyter-widgets/base",
            "_model_module_version": "1.2.0",
            "_model_name": "LayoutModel",
            "_view_count": null,
            "_view_module": "@jupyter-widgets/base",
            "_view_module_version": "1.2.0",
            "_view_name": "LayoutView",
            "align_content": null,
            "align_items": null,
            "align_self": null,
            "border": null,
            "bottom": null,
            "display": null,
            "flex": null,
            "flex_flow": null,
            "grid_area": null,
            "grid_auto_columns": null,
            "grid_auto_flow": null,
            "grid_auto_rows": null,
            "grid_column": null,
            "grid_gap": null,
            "grid_row": null,
            "grid_template_areas": null,
            "grid_template_columns": null,
            "grid_template_rows": null,
            "height": null,
            "justify_content": null,
            "justify_items": null,
            "left": null,
            "margin": null,
            "max_height": null,
            "max_width": null,
            "min_height": null,
            "min_width": null,
            "object_fit": null,
            "object_position": null,
            "order": null,
            "overflow": null,
            "overflow_x": null,
            "overflow_y": null,
            "padding": null,
            "right": null,
            "top": null,
            "visibility": "hidden",
            "width": null
          }
        },
        "60538cb996df4cd89ba77474570c8559": {
          "model_module": "@jupyter-widgets/base",
          "model_name": "LayoutModel",
          "model_module_version": "1.2.0",
          "state": {
            "_model_module": "@jupyter-widgets/base",
            "_model_module_version": "1.2.0",
            "_model_name": "LayoutModel",
            "_view_count": null,
            "_view_module": "@jupyter-widgets/base",
            "_view_module_version": "1.2.0",
            "_view_name": "LayoutView",
            "align_content": null,
            "align_items": null,
            "align_self": null,
            "border": null,
            "bottom": null,
            "display": null,
            "flex": null,
            "flex_flow": null,
            "grid_area": null,
            "grid_auto_columns": null,
            "grid_auto_flow": null,
            "grid_auto_rows": null,
            "grid_column": null,
            "grid_gap": null,
            "grid_row": null,
            "grid_template_areas": null,
            "grid_template_columns": null,
            "grid_template_rows": null,
            "height": null,
            "justify_content": null,
            "justify_items": null,
            "left": null,
            "margin": null,
            "max_height": null,
            "max_width": null,
            "min_height": null,
            "min_width": null,
            "object_fit": null,
            "object_position": null,
            "order": null,
            "overflow": null,
            "overflow_x": null,
            "overflow_y": null,
            "padding": null,
            "right": null,
            "top": null,
            "visibility": null,
            "width": null
          }
        },
        "dd72ed5b4c7f4c328a67161707eeca0a": {
          "model_module": "@jupyter-widgets/controls",
          "model_name": "DescriptionStyleModel",
          "model_module_version": "1.5.0",
          "state": {
            "_model_module": "@jupyter-widgets/controls",
            "_model_module_version": "1.5.0",
            "_model_name": "DescriptionStyleModel",
            "_view_count": null,
            "_view_module": "@jupyter-widgets/base",
            "_view_module_version": "1.2.0",
            "_view_name": "StyleView",
            "description_width": ""
          }
        },
        "bb678b7e4905493289f2aba776f8080f": {
          "model_module": "@jupyter-widgets/base",
          "model_name": "LayoutModel",
          "model_module_version": "1.2.0",
          "state": {
            "_model_module": "@jupyter-widgets/base",
            "_model_module_version": "1.2.0",
            "_model_name": "LayoutModel",
            "_view_count": null,
            "_view_module": "@jupyter-widgets/base",
            "_view_module_version": "1.2.0",
            "_view_name": "LayoutView",
            "align_content": null,
            "align_items": null,
            "align_self": null,
            "border": null,
            "bottom": null,
            "display": null,
            "flex": null,
            "flex_flow": null,
            "grid_area": null,
            "grid_auto_columns": null,
            "grid_auto_flow": null,
            "grid_auto_rows": null,
            "grid_column": null,
            "grid_gap": null,
            "grid_row": null,
            "grid_template_areas": null,
            "grid_template_columns": null,
            "grid_template_rows": null,
            "height": null,
            "justify_content": null,
            "justify_items": null,
            "left": null,
            "margin": null,
            "max_height": null,
            "max_width": null,
            "min_height": null,
            "min_width": null,
            "object_fit": null,
            "object_position": null,
            "order": null,
            "overflow": null,
            "overflow_x": null,
            "overflow_y": null,
            "padding": null,
            "right": null,
            "top": null,
            "visibility": null,
            "width": null
          }
        },
        "bb477f4c494a4944bd7c143a5d7abd54": {
          "model_module": "@jupyter-widgets/controls",
          "model_name": "ProgressStyleModel",
          "model_module_version": "1.5.0",
          "state": {
            "_model_module": "@jupyter-widgets/controls",
            "_model_module_version": "1.5.0",
            "_model_name": "ProgressStyleModel",
            "_view_count": null,
            "_view_module": "@jupyter-widgets/base",
            "_view_module_version": "1.2.0",
            "_view_name": "StyleView",
            "bar_color": null,
            "description_width": ""
          }
        },
        "2ed4e3db82a34bd797d2bb6d18de79fe": {
          "model_module": "@jupyter-widgets/base",
          "model_name": "LayoutModel",
          "model_module_version": "1.2.0",
          "state": {
            "_model_module": "@jupyter-widgets/base",
            "_model_module_version": "1.2.0",
            "_model_name": "LayoutModel",
            "_view_count": null,
            "_view_module": "@jupyter-widgets/base",
            "_view_module_version": "1.2.0",
            "_view_name": "LayoutView",
            "align_content": null,
            "align_items": null,
            "align_self": null,
            "border": null,
            "bottom": null,
            "display": null,
            "flex": null,
            "flex_flow": null,
            "grid_area": null,
            "grid_auto_columns": null,
            "grid_auto_flow": null,
            "grid_auto_rows": null,
            "grid_column": null,
            "grid_gap": null,
            "grid_row": null,
            "grid_template_areas": null,
            "grid_template_columns": null,
            "grid_template_rows": null,
            "height": null,
            "justify_content": null,
            "justify_items": null,
            "left": null,
            "margin": null,
            "max_height": null,
            "max_width": null,
            "min_height": null,
            "min_width": null,
            "object_fit": null,
            "object_position": null,
            "order": null,
            "overflow": null,
            "overflow_x": null,
            "overflow_y": null,
            "padding": null,
            "right": null,
            "top": null,
            "visibility": null,
            "width": null
          }
        },
        "33b6e95cef23416dbb80674de575fc8d": {
          "model_module": "@jupyter-widgets/controls",
          "model_name": "DescriptionStyleModel",
          "model_module_version": "1.5.0",
          "state": {
            "_model_module": "@jupyter-widgets/controls",
            "_model_module_version": "1.5.0",
            "_model_name": "DescriptionStyleModel",
            "_view_count": null,
            "_view_module": "@jupyter-widgets/base",
            "_view_module_version": "1.2.0",
            "_view_name": "StyleView",
            "description_width": ""
          }
        },
        "7b511ec7bcb0480bb11a6cef09e1ee1e": {
          "model_module": "@jupyter-widgets/controls",
          "model_name": "HBoxModel",
          "model_module_version": "1.5.0",
          "state": {
            "_dom_classes": [],
            "_model_module": "@jupyter-widgets/controls",
            "_model_module_version": "1.5.0",
            "_model_name": "HBoxModel",
            "_view_count": null,
            "_view_module": "@jupyter-widgets/controls",
            "_view_module_version": "1.5.0",
            "_view_name": "HBoxView",
            "box_style": "",
            "children": [
              "IPY_MODEL_0210a159ce92497e9be2d7f92211ab45",
              "IPY_MODEL_f02058834f174c5f9cc042490d920a7e",
              "IPY_MODEL_2a9e97e79d5143a1b0884c5961ed385f"
            ],
            "layout": "IPY_MODEL_1dca3cbfeee948e581a75f4645f61913"
          }
        },
        "0210a159ce92497e9be2d7f92211ab45": {
          "model_module": "@jupyter-widgets/controls",
          "model_name": "HTMLModel",
          "model_module_version": "1.5.0",
          "state": {
            "_dom_classes": [],
            "_model_module": "@jupyter-widgets/controls",
            "_model_module_version": "1.5.0",
            "_model_name": "HTMLModel",
            "_view_count": null,
            "_view_module": "@jupyter-widgets/controls",
            "_view_module_version": "1.5.0",
            "_view_name": "HTMLView",
            "description": "",
            "description_tooltip": null,
            "layout": "IPY_MODEL_35d65c90b69d4f9f992c3653ef55c9e2",
            "placeholder": "​",
            "style": "IPY_MODEL_980a575c40f341b8a4cb2cda4350522f",
            "value": "Generating train examples...: 100%"
          }
        },
        "f02058834f174c5f9cc042490d920a7e": {
          "model_module": "@jupyter-widgets/controls",
          "model_name": "FloatProgressModel",
          "model_module_version": "1.5.0",
          "state": {
            "_dom_classes": [],
            "_model_module": "@jupyter-widgets/controls",
            "_model_module_version": "1.5.0",
            "_model_name": "FloatProgressModel",
            "_view_count": null,
            "_view_module": "@jupyter-widgets/controls",
            "_view_module_version": "1.5.0",
            "_view_name": "ProgressView",
            "bar_style": "",
            "description": "",
            "description_tooltip": null,
            "layout": "IPY_MODEL_151d65c14d63445789bc16e83f112647",
            "max": 75750,
            "min": 0,
            "orientation": "horizontal",
            "style": "IPY_MODEL_16555f498bbb449285f0c9c67ca04235",
            "value": 75750
          }
        },
        "2a9e97e79d5143a1b0884c5961ed385f": {
          "model_module": "@jupyter-widgets/controls",
          "model_name": "HTMLModel",
          "model_module_version": "1.5.0",
          "state": {
            "_dom_classes": [],
            "_model_module": "@jupyter-widgets/controls",
            "_model_module_version": "1.5.0",
            "_model_name": "HTMLModel",
            "_view_count": null,
            "_view_module": "@jupyter-widgets/controls",
            "_view_module_version": "1.5.0",
            "_view_name": "HTMLView",
            "description": "",
            "description_tooltip": null,
            "layout": "IPY_MODEL_3b9a41c8e6e94f5ebcee6cbeca7c7df0",
            "placeholder": "​",
            "style": "IPY_MODEL_4faddeb0f8814f43a40736b9a0165635",
            "value": " 75732/75750 [01:52&lt;00:00, 691.19 examples/s]"
          }
        },
        "1dca3cbfeee948e581a75f4645f61913": {
          "model_module": "@jupyter-widgets/base",
          "model_name": "LayoutModel",
          "model_module_version": "1.2.0",
          "state": {
            "_model_module": "@jupyter-widgets/base",
            "_model_module_version": "1.2.0",
            "_model_name": "LayoutModel",
            "_view_count": null,
            "_view_module": "@jupyter-widgets/base",
            "_view_module_version": "1.2.0",
            "_view_name": "LayoutView",
            "align_content": null,
            "align_items": null,
            "align_self": null,
            "border": null,
            "bottom": null,
            "display": null,
            "flex": null,
            "flex_flow": null,
            "grid_area": null,
            "grid_auto_columns": null,
            "grid_auto_flow": null,
            "grid_auto_rows": null,
            "grid_column": null,
            "grid_gap": null,
            "grid_row": null,
            "grid_template_areas": null,
            "grid_template_columns": null,
            "grid_template_rows": null,
            "height": null,
            "justify_content": null,
            "justify_items": null,
            "left": null,
            "margin": null,
            "max_height": null,
            "max_width": null,
            "min_height": null,
            "min_width": null,
            "object_fit": null,
            "object_position": null,
            "order": null,
            "overflow": null,
            "overflow_x": null,
            "overflow_y": null,
            "padding": null,
            "right": null,
            "top": null,
            "visibility": "hidden",
            "width": null
          }
        },
        "35d65c90b69d4f9f992c3653ef55c9e2": {
          "model_module": "@jupyter-widgets/base",
          "model_name": "LayoutModel",
          "model_module_version": "1.2.0",
          "state": {
            "_model_module": "@jupyter-widgets/base",
            "_model_module_version": "1.2.0",
            "_model_name": "LayoutModel",
            "_view_count": null,
            "_view_module": "@jupyter-widgets/base",
            "_view_module_version": "1.2.0",
            "_view_name": "LayoutView",
            "align_content": null,
            "align_items": null,
            "align_self": null,
            "border": null,
            "bottom": null,
            "display": null,
            "flex": null,
            "flex_flow": null,
            "grid_area": null,
            "grid_auto_columns": null,
            "grid_auto_flow": null,
            "grid_auto_rows": null,
            "grid_column": null,
            "grid_gap": null,
            "grid_row": null,
            "grid_template_areas": null,
            "grid_template_columns": null,
            "grid_template_rows": null,
            "height": null,
            "justify_content": null,
            "justify_items": null,
            "left": null,
            "margin": null,
            "max_height": null,
            "max_width": null,
            "min_height": null,
            "min_width": null,
            "object_fit": null,
            "object_position": null,
            "order": null,
            "overflow": null,
            "overflow_x": null,
            "overflow_y": null,
            "padding": null,
            "right": null,
            "top": null,
            "visibility": null,
            "width": null
          }
        },
        "980a575c40f341b8a4cb2cda4350522f": {
          "model_module": "@jupyter-widgets/controls",
          "model_name": "DescriptionStyleModel",
          "model_module_version": "1.5.0",
          "state": {
            "_model_module": "@jupyter-widgets/controls",
            "_model_module_version": "1.5.0",
            "_model_name": "DescriptionStyleModel",
            "_view_count": null,
            "_view_module": "@jupyter-widgets/base",
            "_view_module_version": "1.2.0",
            "_view_name": "StyleView",
            "description_width": ""
          }
        },
        "151d65c14d63445789bc16e83f112647": {
          "model_module": "@jupyter-widgets/base",
          "model_name": "LayoutModel",
          "model_module_version": "1.2.0",
          "state": {
            "_model_module": "@jupyter-widgets/base",
            "_model_module_version": "1.2.0",
            "_model_name": "LayoutModel",
            "_view_count": null,
            "_view_module": "@jupyter-widgets/base",
            "_view_module_version": "1.2.0",
            "_view_name": "LayoutView",
            "align_content": null,
            "align_items": null,
            "align_self": null,
            "border": null,
            "bottom": null,
            "display": null,
            "flex": null,
            "flex_flow": null,
            "grid_area": null,
            "grid_auto_columns": null,
            "grid_auto_flow": null,
            "grid_auto_rows": null,
            "grid_column": null,
            "grid_gap": null,
            "grid_row": null,
            "grid_template_areas": null,
            "grid_template_columns": null,
            "grid_template_rows": null,
            "height": null,
            "justify_content": null,
            "justify_items": null,
            "left": null,
            "margin": null,
            "max_height": null,
            "max_width": null,
            "min_height": null,
            "min_width": null,
            "object_fit": null,
            "object_position": null,
            "order": null,
            "overflow": null,
            "overflow_x": null,
            "overflow_y": null,
            "padding": null,
            "right": null,
            "top": null,
            "visibility": null,
            "width": null
          }
        },
        "16555f498bbb449285f0c9c67ca04235": {
          "model_module": "@jupyter-widgets/controls",
          "model_name": "ProgressStyleModel",
          "model_module_version": "1.5.0",
          "state": {
            "_model_module": "@jupyter-widgets/controls",
            "_model_module_version": "1.5.0",
            "_model_name": "ProgressStyleModel",
            "_view_count": null,
            "_view_module": "@jupyter-widgets/base",
            "_view_module_version": "1.2.0",
            "_view_name": "StyleView",
            "bar_color": null,
            "description_width": ""
          }
        },
        "3b9a41c8e6e94f5ebcee6cbeca7c7df0": {
          "model_module": "@jupyter-widgets/base",
          "model_name": "LayoutModel",
          "model_module_version": "1.2.0",
          "state": {
            "_model_module": "@jupyter-widgets/base",
            "_model_module_version": "1.2.0",
            "_model_name": "LayoutModel",
            "_view_count": null,
            "_view_module": "@jupyter-widgets/base",
            "_view_module_version": "1.2.0",
            "_view_name": "LayoutView",
            "align_content": null,
            "align_items": null,
            "align_self": null,
            "border": null,
            "bottom": null,
            "display": null,
            "flex": null,
            "flex_flow": null,
            "grid_area": null,
            "grid_auto_columns": null,
            "grid_auto_flow": null,
            "grid_auto_rows": null,
            "grid_column": null,
            "grid_gap": null,
            "grid_row": null,
            "grid_template_areas": null,
            "grid_template_columns": null,
            "grid_template_rows": null,
            "height": null,
            "justify_content": null,
            "justify_items": null,
            "left": null,
            "margin": null,
            "max_height": null,
            "max_width": null,
            "min_height": null,
            "min_width": null,
            "object_fit": null,
            "object_position": null,
            "order": null,
            "overflow": null,
            "overflow_x": null,
            "overflow_y": null,
            "padding": null,
            "right": null,
            "top": null,
            "visibility": null,
            "width": null
          }
        },
        "4faddeb0f8814f43a40736b9a0165635": {
          "model_module": "@jupyter-widgets/controls",
          "model_name": "DescriptionStyleModel",
          "model_module_version": "1.5.0",
          "state": {
            "_model_module": "@jupyter-widgets/controls",
            "_model_module_version": "1.5.0",
            "_model_name": "DescriptionStyleModel",
            "_view_count": null,
            "_view_module": "@jupyter-widgets/base",
            "_view_module_version": "1.2.0",
            "_view_name": "StyleView",
            "description_width": ""
          }
        },
        "9e7110a3c10f47ddadd20dc0f83dd7ff": {
          "model_module": "@jupyter-widgets/controls",
          "model_name": "HBoxModel",
          "model_module_version": "1.5.0",
          "state": {
            "_dom_classes": [],
            "_model_module": "@jupyter-widgets/controls",
            "_model_module_version": "1.5.0",
            "_model_name": "HBoxModel",
            "_view_count": null,
            "_view_module": "@jupyter-widgets/controls",
            "_view_module_version": "1.5.0",
            "_view_name": "HBoxView",
            "box_style": "",
            "children": [
              "IPY_MODEL_4396ae6a6f604422be6a319075e098e9",
              "IPY_MODEL_2d4b8f7c79b94f2e95878856e6b73e8c",
              "IPY_MODEL_9284172948c3442ba66fc44207654607"
            ],
            "layout": "IPY_MODEL_ccd69387929c47d2a123267f4fc02f03"
          }
        },
        "4396ae6a6f604422be6a319075e098e9": {
          "model_module": "@jupyter-widgets/controls",
          "model_name": "HTMLModel",
          "model_module_version": "1.5.0",
          "state": {
            "_dom_classes": [],
            "_model_module": "@jupyter-widgets/controls",
            "_model_module_version": "1.5.0",
            "_model_name": "HTMLModel",
            "_view_count": null,
            "_view_module": "@jupyter-widgets/controls",
            "_view_module_version": "1.5.0",
            "_view_name": "HTMLView",
            "description": "",
            "description_tooltip": null,
            "layout": "IPY_MODEL_31c4540e1c8c4a41aeeedd6fd682ffa4",
            "placeholder": "​",
            "style": "IPY_MODEL_e5901f6f534145bfa5ae6a80efaa96eb",
            "value": "Shuffling ~/tensorflow_datasets/food101/2.0.0.incompleteOTXBAG/food101-train.tfrecord*...: 100%"
          }
        },
        "2d4b8f7c79b94f2e95878856e6b73e8c": {
          "model_module": "@jupyter-widgets/controls",
          "model_name": "FloatProgressModel",
          "model_module_version": "1.5.0",
          "state": {
            "_dom_classes": [],
            "_model_module": "@jupyter-widgets/controls",
            "_model_module_version": "1.5.0",
            "_model_name": "FloatProgressModel",
            "_view_count": null,
            "_view_module": "@jupyter-widgets/controls",
            "_view_module_version": "1.5.0",
            "_view_name": "ProgressView",
            "bar_style": "",
            "description": "",
            "description_tooltip": null,
            "layout": "IPY_MODEL_36b43719b0b047e7a43e06570f46b126",
            "max": 75750,
            "min": 0,
            "orientation": "horizontal",
            "style": "IPY_MODEL_890a05a4c4b5485bb5bb734df0279f45",
            "value": 75750
          }
        },
        "9284172948c3442ba66fc44207654607": {
          "model_module": "@jupyter-widgets/controls",
          "model_name": "HTMLModel",
          "model_module_version": "1.5.0",
          "state": {
            "_dom_classes": [],
            "_model_module": "@jupyter-widgets/controls",
            "_model_module_version": "1.5.0",
            "_model_name": "HTMLModel",
            "_view_count": null,
            "_view_module": "@jupyter-widgets/controls",
            "_view_module_version": "1.5.0",
            "_view_name": "HTMLView",
            "description": "",
            "description_tooltip": null,
            "layout": "IPY_MODEL_c32ebac86cd24e66a76c3845d299303d",
            "placeholder": "​",
            "style": "IPY_MODEL_4f03ca74b0eb4c219508003e5f141608",
            "value": " 75699/75750 [00:30&lt;00:00, 2581.52 examples/s]"
          }
        },
        "ccd69387929c47d2a123267f4fc02f03": {
          "model_module": "@jupyter-widgets/base",
          "model_name": "LayoutModel",
          "model_module_version": "1.2.0",
          "state": {
            "_model_module": "@jupyter-widgets/base",
            "_model_module_version": "1.2.0",
            "_model_name": "LayoutModel",
            "_view_count": null,
            "_view_module": "@jupyter-widgets/base",
            "_view_module_version": "1.2.0",
            "_view_name": "LayoutView",
            "align_content": null,
            "align_items": null,
            "align_self": null,
            "border": null,
            "bottom": null,
            "display": null,
            "flex": null,
            "flex_flow": null,
            "grid_area": null,
            "grid_auto_columns": null,
            "grid_auto_flow": null,
            "grid_auto_rows": null,
            "grid_column": null,
            "grid_gap": null,
            "grid_row": null,
            "grid_template_areas": null,
            "grid_template_columns": null,
            "grid_template_rows": null,
            "height": null,
            "justify_content": null,
            "justify_items": null,
            "left": null,
            "margin": null,
            "max_height": null,
            "max_width": null,
            "min_height": null,
            "min_width": null,
            "object_fit": null,
            "object_position": null,
            "order": null,
            "overflow": null,
            "overflow_x": null,
            "overflow_y": null,
            "padding": null,
            "right": null,
            "top": null,
            "visibility": "hidden",
            "width": null
          }
        },
        "31c4540e1c8c4a41aeeedd6fd682ffa4": {
          "model_module": "@jupyter-widgets/base",
          "model_name": "LayoutModel",
          "model_module_version": "1.2.0",
          "state": {
            "_model_module": "@jupyter-widgets/base",
            "_model_module_version": "1.2.0",
            "_model_name": "LayoutModel",
            "_view_count": null,
            "_view_module": "@jupyter-widgets/base",
            "_view_module_version": "1.2.0",
            "_view_name": "LayoutView",
            "align_content": null,
            "align_items": null,
            "align_self": null,
            "border": null,
            "bottom": null,
            "display": null,
            "flex": null,
            "flex_flow": null,
            "grid_area": null,
            "grid_auto_columns": null,
            "grid_auto_flow": null,
            "grid_auto_rows": null,
            "grid_column": null,
            "grid_gap": null,
            "grid_row": null,
            "grid_template_areas": null,
            "grid_template_columns": null,
            "grid_template_rows": null,
            "height": null,
            "justify_content": null,
            "justify_items": null,
            "left": null,
            "margin": null,
            "max_height": null,
            "max_width": null,
            "min_height": null,
            "min_width": null,
            "object_fit": null,
            "object_position": null,
            "order": null,
            "overflow": null,
            "overflow_x": null,
            "overflow_y": null,
            "padding": null,
            "right": null,
            "top": null,
            "visibility": null,
            "width": null
          }
        },
        "e5901f6f534145bfa5ae6a80efaa96eb": {
          "model_module": "@jupyter-widgets/controls",
          "model_name": "DescriptionStyleModel",
          "model_module_version": "1.5.0",
          "state": {
            "_model_module": "@jupyter-widgets/controls",
            "_model_module_version": "1.5.0",
            "_model_name": "DescriptionStyleModel",
            "_view_count": null,
            "_view_module": "@jupyter-widgets/base",
            "_view_module_version": "1.2.0",
            "_view_name": "StyleView",
            "description_width": ""
          }
        },
        "36b43719b0b047e7a43e06570f46b126": {
          "model_module": "@jupyter-widgets/base",
          "model_name": "LayoutModel",
          "model_module_version": "1.2.0",
          "state": {
            "_model_module": "@jupyter-widgets/base",
            "_model_module_version": "1.2.0",
            "_model_name": "LayoutModel",
            "_view_count": null,
            "_view_module": "@jupyter-widgets/base",
            "_view_module_version": "1.2.0",
            "_view_name": "LayoutView",
            "align_content": null,
            "align_items": null,
            "align_self": null,
            "border": null,
            "bottom": null,
            "display": null,
            "flex": null,
            "flex_flow": null,
            "grid_area": null,
            "grid_auto_columns": null,
            "grid_auto_flow": null,
            "grid_auto_rows": null,
            "grid_column": null,
            "grid_gap": null,
            "grid_row": null,
            "grid_template_areas": null,
            "grid_template_columns": null,
            "grid_template_rows": null,
            "height": null,
            "justify_content": null,
            "justify_items": null,
            "left": null,
            "margin": null,
            "max_height": null,
            "max_width": null,
            "min_height": null,
            "min_width": null,
            "object_fit": null,
            "object_position": null,
            "order": null,
            "overflow": null,
            "overflow_x": null,
            "overflow_y": null,
            "padding": null,
            "right": null,
            "top": null,
            "visibility": null,
            "width": null
          }
        },
        "890a05a4c4b5485bb5bb734df0279f45": {
          "model_module": "@jupyter-widgets/controls",
          "model_name": "ProgressStyleModel",
          "model_module_version": "1.5.0",
          "state": {
            "_model_module": "@jupyter-widgets/controls",
            "_model_module_version": "1.5.0",
            "_model_name": "ProgressStyleModel",
            "_view_count": null,
            "_view_module": "@jupyter-widgets/base",
            "_view_module_version": "1.2.0",
            "_view_name": "StyleView",
            "bar_color": null,
            "description_width": ""
          }
        },
        "c32ebac86cd24e66a76c3845d299303d": {
          "model_module": "@jupyter-widgets/base",
          "model_name": "LayoutModel",
          "model_module_version": "1.2.0",
          "state": {
            "_model_module": "@jupyter-widgets/base",
            "_model_module_version": "1.2.0",
            "_model_name": "LayoutModel",
            "_view_count": null,
            "_view_module": "@jupyter-widgets/base",
            "_view_module_version": "1.2.0",
            "_view_name": "LayoutView",
            "align_content": null,
            "align_items": null,
            "align_self": null,
            "border": null,
            "bottom": null,
            "display": null,
            "flex": null,
            "flex_flow": null,
            "grid_area": null,
            "grid_auto_columns": null,
            "grid_auto_flow": null,
            "grid_auto_rows": null,
            "grid_column": null,
            "grid_gap": null,
            "grid_row": null,
            "grid_template_areas": null,
            "grid_template_columns": null,
            "grid_template_rows": null,
            "height": null,
            "justify_content": null,
            "justify_items": null,
            "left": null,
            "margin": null,
            "max_height": null,
            "max_width": null,
            "min_height": null,
            "min_width": null,
            "object_fit": null,
            "object_position": null,
            "order": null,
            "overflow": null,
            "overflow_x": null,
            "overflow_y": null,
            "padding": null,
            "right": null,
            "top": null,
            "visibility": null,
            "width": null
          }
        },
        "4f03ca74b0eb4c219508003e5f141608": {
          "model_module": "@jupyter-widgets/controls",
          "model_name": "DescriptionStyleModel",
          "model_module_version": "1.5.0",
          "state": {
            "_model_module": "@jupyter-widgets/controls",
            "_model_module_version": "1.5.0",
            "_model_name": "DescriptionStyleModel",
            "_view_count": null,
            "_view_module": "@jupyter-widgets/base",
            "_view_module_version": "1.2.0",
            "_view_name": "StyleView",
            "description_width": ""
          }
        },
        "8eed6355a1b84635a5d676ee49191fe0": {
          "model_module": "@jupyter-widgets/controls",
          "model_name": "HBoxModel",
          "model_module_version": "1.5.0",
          "state": {
            "_dom_classes": [],
            "_model_module": "@jupyter-widgets/controls",
            "_model_module_version": "1.5.0",
            "_model_name": "HBoxModel",
            "_view_count": null,
            "_view_module": "@jupyter-widgets/controls",
            "_view_module_version": "1.5.0",
            "_view_name": "HBoxView",
            "box_style": "",
            "children": [
              "IPY_MODEL_346e8d5ab46a4fcc8fdf038bdf5628e8",
              "IPY_MODEL_5f8af3ac151e4553844b0f6880ba0d48",
              "IPY_MODEL_37b667353f8f4f08838c810b22c07c6c"
            ],
            "layout": "IPY_MODEL_69f05de6c4e34859b305c6a6f9f4d19f"
          }
        },
        "346e8d5ab46a4fcc8fdf038bdf5628e8": {
          "model_module": "@jupyter-widgets/controls",
          "model_name": "HTMLModel",
          "model_module_version": "1.5.0",
          "state": {
            "_dom_classes": [],
            "_model_module": "@jupyter-widgets/controls",
            "_model_module_version": "1.5.0",
            "_model_name": "HTMLModel",
            "_view_count": null,
            "_view_module": "@jupyter-widgets/controls",
            "_view_module_version": "1.5.0",
            "_view_name": "HTMLView",
            "description": "",
            "description_tooltip": null,
            "layout": "IPY_MODEL_d19346935ccc4f51a39d467122c93cec",
            "placeholder": "​",
            "style": "IPY_MODEL_6fe7b6eed13447fcb98b8846fcd01b2f",
            "value": "Generating validation examples...: 100%"
          }
        },
        "5f8af3ac151e4553844b0f6880ba0d48": {
          "model_module": "@jupyter-widgets/controls",
          "model_name": "FloatProgressModel",
          "model_module_version": "1.5.0",
          "state": {
            "_dom_classes": [],
            "_model_module": "@jupyter-widgets/controls",
            "_model_module_version": "1.5.0",
            "_model_name": "FloatProgressModel",
            "_view_count": null,
            "_view_module": "@jupyter-widgets/controls",
            "_view_module_version": "1.5.0",
            "_view_name": "ProgressView",
            "bar_style": "",
            "description": "",
            "description_tooltip": null,
            "layout": "IPY_MODEL_ef4bc34fb70f49fca33c254016771a0c",
            "max": 25250,
            "min": 0,
            "orientation": "horizontal",
            "style": "IPY_MODEL_a50e51c55c0d4179a4f693b3b452718c",
            "value": 25250
          }
        },
        "37b667353f8f4f08838c810b22c07c6c": {
          "model_module": "@jupyter-widgets/controls",
          "model_name": "HTMLModel",
          "model_module_version": "1.5.0",
          "state": {
            "_dom_classes": [],
            "_model_module": "@jupyter-widgets/controls",
            "_model_module_version": "1.5.0",
            "_model_name": "HTMLModel",
            "_view_count": null,
            "_view_module": "@jupyter-widgets/controls",
            "_view_module_version": "1.5.0",
            "_view_name": "HTMLView",
            "description": "",
            "description_tooltip": null,
            "layout": "IPY_MODEL_353a401366aa4e049247ed0cc14bf686",
            "placeholder": "​",
            "style": "IPY_MODEL_966f59adb3784b518c9b674ed94b9b2f",
            "value": " 25199/25250 [00:58&lt;00:00, 457.81 examples/s]"
          }
        },
        "69f05de6c4e34859b305c6a6f9f4d19f": {
          "model_module": "@jupyter-widgets/base",
          "model_name": "LayoutModel",
          "model_module_version": "1.2.0",
          "state": {
            "_model_module": "@jupyter-widgets/base",
            "_model_module_version": "1.2.0",
            "_model_name": "LayoutModel",
            "_view_count": null,
            "_view_module": "@jupyter-widgets/base",
            "_view_module_version": "1.2.0",
            "_view_name": "LayoutView",
            "align_content": null,
            "align_items": null,
            "align_self": null,
            "border": null,
            "bottom": null,
            "display": null,
            "flex": null,
            "flex_flow": null,
            "grid_area": null,
            "grid_auto_columns": null,
            "grid_auto_flow": null,
            "grid_auto_rows": null,
            "grid_column": null,
            "grid_gap": null,
            "grid_row": null,
            "grid_template_areas": null,
            "grid_template_columns": null,
            "grid_template_rows": null,
            "height": null,
            "justify_content": null,
            "justify_items": null,
            "left": null,
            "margin": null,
            "max_height": null,
            "max_width": null,
            "min_height": null,
            "min_width": null,
            "object_fit": null,
            "object_position": null,
            "order": null,
            "overflow": null,
            "overflow_x": null,
            "overflow_y": null,
            "padding": null,
            "right": null,
            "top": null,
            "visibility": "hidden",
            "width": null
          }
        },
        "d19346935ccc4f51a39d467122c93cec": {
          "model_module": "@jupyter-widgets/base",
          "model_name": "LayoutModel",
          "model_module_version": "1.2.0",
          "state": {
            "_model_module": "@jupyter-widgets/base",
            "_model_module_version": "1.2.0",
            "_model_name": "LayoutModel",
            "_view_count": null,
            "_view_module": "@jupyter-widgets/base",
            "_view_module_version": "1.2.0",
            "_view_name": "LayoutView",
            "align_content": null,
            "align_items": null,
            "align_self": null,
            "border": null,
            "bottom": null,
            "display": null,
            "flex": null,
            "flex_flow": null,
            "grid_area": null,
            "grid_auto_columns": null,
            "grid_auto_flow": null,
            "grid_auto_rows": null,
            "grid_column": null,
            "grid_gap": null,
            "grid_row": null,
            "grid_template_areas": null,
            "grid_template_columns": null,
            "grid_template_rows": null,
            "height": null,
            "justify_content": null,
            "justify_items": null,
            "left": null,
            "margin": null,
            "max_height": null,
            "max_width": null,
            "min_height": null,
            "min_width": null,
            "object_fit": null,
            "object_position": null,
            "order": null,
            "overflow": null,
            "overflow_x": null,
            "overflow_y": null,
            "padding": null,
            "right": null,
            "top": null,
            "visibility": null,
            "width": null
          }
        },
        "6fe7b6eed13447fcb98b8846fcd01b2f": {
          "model_module": "@jupyter-widgets/controls",
          "model_name": "DescriptionStyleModel",
          "model_module_version": "1.5.0",
          "state": {
            "_model_module": "@jupyter-widgets/controls",
            "_model_module_version": "1.5.0",
            "_model_name": "DescriptionStyleModel",
            "_view_count": null,
            "_view_module": "@jupyter-widgets/base",
            "_view_module_version": "1.2.0",
            "_view_name": "StyleView",
            "description_width": ""
          }
        },
        "ef4bc34fb70f49fca33c254016771a0c": {
          "model_module": "@jupyter-widgets/base",
          "model_name": "LayoutModel",
          "model_module_version": "1.2.0",
          "state": {
            "_model_module": "@jupyter-widgets/base",
            "_model_module_version": "1.2.0",
            "_model_name": "LayoutModel",
            "_view_count": null,
            "_view_module": "@jupyter-widgets/base",
            "_view_module_version": "1.2.0",
            "_view_name": "LayoutView",
            "align_content": null,
            "align_items": null,
            "align_self": null,
            "border": null,
            "bottom": null,
            "display": null,
            "flex": null,
            "flex_flow": null,
            "grid_area": null,
            "grid_auto_columns": null,
            "grid_auto_flow": null,
            "grid_auto_rows": null,
            "grid_column": null,
            "grid_gap": null,
            "grid_row": null,
            "grid_template_areas": null,
            "grid_template_columns": null,
            "grid_template_rows": null,
            "height": null,
            "justify_content": null,
            "justify_items": null,
            "left": null,
            "margin": null,
            "max_height": null,
            "max_width": null,
            "min_height": null,
            "min_width": null,
            "object_fit": null,
            "object_position": null,
            "order": null,
            "overflow": null,
            "overflow_x": null,
            "overflow_y": null,
            "padding": null,
            "right": null,
            "top": null,
            "visibility": null,
            "width": null
          }
        },
        "a50e51c55c0d4179a4f693b3b452718c": {
          "model_module": "@jupyter-widgets/controls",
          "model_name": "ProgressStyleModel",
          "model_module_version": "1.5.0",
          "state": {
            "_model_module": "@jupyter-widgets/controls",
            "_model_module_version": "1.5.0",
            "_model_name": "ProgressStyleModel",
            "_view_count": null,
            "_view_module": "@jupyter-widgets/base",
            "_view_module_version": "1.2.0",
            "_view_name": "StyleView",
            "bar_color": null,
            "description_width": ""
          }
        },
        "353a401366aa4e049247ed0cc14bf686": {
          "model_module": "@jupyter-widgets/base",
          "model_name": "LayoutModel",
          "model_module_version": "1.2.0",
          "state": {
            "_model_module": "@jupyter-widgets/base",
            "_model_module_version": "1.2.0",
            "_model_name": "LayoutModel",
            "_view_count": null,
            "_view_module": "@jupyter-widgets/base",
            "_view_module_version": "1.2.0",
            "_view_name": "LayoutView",
            "align_content": null,
            "align_items": null,
            "align_self": null,
            "border": null,
            "bottom": null,
            "display": null,
            "flex": null,
            "flex_flow": null,
            "grid_area": null,
            "grid_auto_columns": null,
            "grid_auto_flow": null,
            "grid_auto_rows": null,
            "grid_column": null,
            "grid_gap": null,
            "grid_row": null,
            "grid_template_areas": null,
            "grid_template_columns": null,
            "grid_template_rows": null,
            "height": null,
            "justify_content": null,
            "justify_items": null,
            "left": null,
            "margin": null,
            "max_height": null,
            "max_width": null,
            "min_height": null,
            "min_width": null,
            "object_fit": null,
            "object_position": null,
            "order": null,
            "overflow": null,
            "overflow_x": null,
            "overflow_y": null,
            "padding": null,
            "right": null,
            "top": null,
            "visibility": null,
            "width": null
          }
        },
        "966f59adb3784b518c9b674ed94b9b2f": {
          "model_module": "@jupyter-widgets/controls",
          "model_name": "DescriptionStyleModel",
          "model_module_version": "1.5.0",
          "state": {
            "_model_module": "@jupyter-widgets/controls",
            "_model_module_version": "1.5.0",
            "_model_name": "DescriptionStyleModel",
            "_view_count": null,
            "_view_module": "@jupyter-widgets/base",
            "_view_module_version": "1.2.0",
            "_view_name": "StyleView",
            "description_width": ""
          }
        },
        "e4b742022c1d444280521c906941ba4a": {
          "model_module": "@jupyter-widgets/controls",
          "model_name": "HBoxModel",
          "model_module_version": "1.5.0",
          "state": {
            "_dom_classes": [],
            "_model_module": "@jupyter-widgets/controls",
            "_model_module_version": "1.5.0",
            "_model_name": "HBoxModel",
            "_view_count": null,
            "_view_module": "@jupyter-widgets/controls",
            "_view_module_version": "1.5.0",
            "_view_name": "HBoxView",
            "box_style": "",
            "children": [
              "IPY_MODEL_57ef051e3d1a4e72b88894edd5994085",
              "IPY_MODEL_15098d92dc374a88a292e1269eefa56a",
              "IPY_MODEL_596d4ba08a7d4d3189001316b75322a4"
            ],
            "layout": "IPY_MODEL_9e375c2fc26848ff93983bf395dd2fba"
          }
        },
        "57ef051e3d1a4e72b88894edd5994085": {
          "model_module": "@jupyter-widgets/controls",
          "model_name": "HTMLModel",
          "model_module_version": "1.5.0",
          "state": {
            "_dom_classes": [],
            "_model_module": "@jupyter-widgets/controls",
            "_model_module_version": "1.5.0",
            "_model_name": "HTMLModel",
            "_view_count": null,
            "_view_module": "@jupyter-widgets/controls",
            "_view_module_version": "1.5.0",
            "_view_name": "HTMLView",
            "description": "",
            "description_tooltip": null,
            "layout": "IPY_MODEL_3339ab943b5f4e35994c5970351a686f",
            "placeholder": "​",
            "style": "IPY_MODEL_13fdb52b09e146909f049e50d52b680e",
            "value": "Shuffling ~/tensorflow_datasets/food101/2.0.0.incompleteOTXBAG/food101-validation.tfrecord*...:  99%"
          }
        },
        "15098d92dc374a88a292e1269eefa56a": {
          "model_module": "@jupyter-widgets/controls",
          "model_name": "FloatProgressModel",
          "model_module_version": "1.5.0",
          "state": {
            "_dom_classes": [],
            "_model_module": "@jupyter-widgets/controls",
            "_model_module_version": "1.5.0",
            "_model_name": "FloatProgressModel",
            "_view_count": null,
            "_view_module": "@jupyter-widgets/controls",
            "_view_module_version": "1.5.0",
            "_view_name": "ProgressView",
            "bar_style": "",
            "description": "",
            "description_tooltip": null,
            "layout": "IPY_MODEL_8e000549de5d4413bc2bf0140735a432",
            "max": 25250,
            "min": 0,
            "orientation": "horizontal",
            "style": "IPY_MODEL_2776b32c8e25490db6e9ad2829f59cdf",
            "value": 25250
          }
        },
        "596d4ba08a7d4d3189001316b75322a4": {
          "model_module": "@jupyter-widgets/controls",
          "model_name": "HTMLModel",
          "model_module_version": "1.5.0",
          "state": {
            "_dom_classes": [],
            "_model_module": "@jupyter-widgets/controls",
            "_model_module_version": "1.5.0",
            "_model_name": "HTMLModel",
            "_view_count": null,
            "_view_module": "@jupyter-widgets/controls",
            "_view_module_version": "1.5.0",
            "_view_name": "HTMLView",
            "description": "",
            "description_tooltip": null,
            "layout": "IPY_MODEL_27116d4718894efaa6ac74feaaff6353",
            "placeholder": "​",
            "style": "IPY_MODEL_9d80decc005f40bc95cacf65708ebc92",
            "value": " 24986/25250 [00:04&lt;00:00, 4848.67 examples/s]"
          }
        },
        "9e375c2fc26848ff93983bf395dd2fba": {
          "model_module": "@jupyter-widgets/base",
          "model_name": "LayoutModel",
          "model_module_version": "1.2.0",
          "state": {
            "_model_module": "@jupyter-widgets/base",
            "_model_module_version": "1.2.0",
            "_model_name": "LayoutModel",
            "_view_count": null,
            "_view_module": "@jupyter-widgets/base",
            "_view_module_version": "1.2.0",
            "_view_name": "LayoutView",
            "align_content": null,
            "align_items": null,
            "align_self": null,
            "border": null,
            "bottom": null,
            "display": null,
            "flex": null,
            "flex_flow": null,
            "grid_area": null,
            "grid_auto_columns": null,
            "grid_auto_flow": null,
            "grid_auto_rows": null,
            "grid_column": null,
            "grid_gap": null,
            "grid_row": null,
            "grid_template_areas": null,
            "grid_template_columns": null,
            "grid_template_rows": null,
            "height": null,
            "justify_content": null,
            "justify_items": null,
            "left": null,
            "margin": null,
            "max_height": null,
            "max_width": null,
            "min_height": null,
            "min_width": null,
            "object_fit": null,
            "object_position": null,
            "order": null,
            "overflow": null,
            "overflow_x": null,
            "overflow_y": null,
            "padding": null,
            "right": null,
            "top": null,
            "visibility": "hidden",
            "width": null
          }
        },
        "3339ab943b5f4e35994c5970351a686f": {
          "model_module": "@jupyter-widgets/base",
          "model_name": "LayoutModel",
          "model_module_version": "1.2.0",
          "state": {
            "_model_module": "@jupyter-widgets/base",
            "_model_module_version": "1.2.0",
            "_model_name": "LayoutModel",
            "_view_count": null,
            "_view_module": "@jupyter-widgets/base",
            "_view_module_version": "1.2.0",
            "_view_name": "LayoutView",
            "align_content": null,
            "align_items": null,
            "align_self": null,
            "border": null,
            "bottom": null,
            "display": null,
            "flex": null,
            "flex_flow": null,
            "grid_area": null,
            "grid_auto_columns": null,
            "grid_auto_flow": null,
            "grid_auto_rows": null,
            "grid_column": null,
            "grid_gap": null,
            "grid_row": null,
            "grid_template_areas": null,
            "grid_template_columns": null,
            "grid_template_rows": null,
            "height": null,
            "justify_content": null,
            "justify_items": null,
            "left": null,
            "margin": null,
            "max_height": null,
            "max_width": null,
            "min_height": null,
            "min_width": null,
            "object_fit": null,
            "object_position": null,
            "order": null,
            "overflow": null,
            "overflow_x": null,
            "overflow_y": null,
            "padding": null,
            "right": null,
            "top": null,
            "visibility": null,
            "width": null
          }
        },
        "13fdb52b09e146909f049e50d52b680e": {
          "model_module": "@jupyter-widgets/controls",
          "model_name": "DescriptionStyleModel",
          "model_module_version": "1.5.0",
          "state": {
            "_model_module": "@jupyter-widgets/controls",
            "_model_module_version": "1.5.0",
            "_model_name": "DescriptionStyleModel",
            "_view_count": null,
            "_view_module": "@jupyter-widgets/base",
            "_view_module_version": "1.2.0",
            "_view_name": "StyleView",
            "description_width": ""
          }
        },
        "8e000549de5d4413bc2bf0140735a432": {
          "model_module": "@jupyter-widgets/base",
          "model_name": "LayoutModel",
          "model_module_version": "1.2.0",
          "state": {
            "_model_module": "@jupyter-widgets/base",
            "_model_module_version": "1.2.0",
            "_model_name": "LayoutModel",
            "_view_count": null,
            "_view_module": "@jupyter-widgets/base",
            "_view_module_version": "1.2.0",
            "_view_name": "LayoutView",
            "align_content": null,
            "align_items": null,
            "align_self": null,
            "border": null,
            "bottom": null,
            "display": null,
            "flex": null,
            "flex_flow": null,
            "grid_area": null,
            "grid_auto_columns": null,
            "grid_auto_flow": null,
            "grid_auto_rows": null,
            "grid_column": null,
            "grid_gap": null,
            "grid_row": null,
            "grid_template_areas": null,
            "grid_template_columns": null,
            "grid_template_rows": null,
            "height": null,
            "justify_content": null,
            "justify_items": null,
            "left": null,
            "margin": null,
            "max_height": null,
            "max_width": null,
            "min_height": null,
            "min_width": null,
            "object_fit": null,
            "object_position": null,
            "order": null,
            "overflow": null,
            "overflow_x": null,
            "overflow_y": null,
            "padding": null,
            "right": null,
            "top": null,
            "visibility": null,
            "width": null
          }
        },
        "2776b32c8e25490db6e9ad2829f59cdf": {
          "model_module": "@jupyter-widgets/controls",
          "model_name": "ProgressStyleModel",
          "model_module_version": "1.5.0",
          "state": {
            "_model_module": "@jupyter-widgets/controls",
            "_model_module_version": "1.5.0",
            "_model_name": "ProgressStyleModel",
            "_view_count": null,
            "_view_module": "@jupyter-widgets/base",
            "_view_module_version": "1.2.0",
            "_view_name": "StyleView",
            "bar_color": null,
            "description_width": ""
          }
        },
        "27116d4718894efaa6ac74feaaff6353": {
          "model_module": "@jupyter-widgets/base",
          "model_name": "LayoutModel",
          "model_module_version": "1.2.0",
          "state": {
            "_model_module": "@jupyter-widgets/base",
            "_model_module_version": "1.2.0",
            "_model_name": "LayoutModel",
            "_view_count": null,
            "_view_module": "@jupyter-widgets/base",
            "_view_module_version": "1.2.0",
            "_view_name": "LayoutView",
            "align_content": null,
            "align_items": null,
            "align_self": null,
            "border": null,
            "bottom": null,
            "display": null,
            "flex": null,
            "flex_flow": null,
            "grid_area": null,
            "grid_auto_columns": null,
            "grid_auto_flow": null,
            "grid_auto_rows": null,
            "grid_column": null,
            "grid_gap": null,
            "grid_row": null,
            "grid_template_areas": null,
            "grid_template_columns": null,
            "grid_template_rows": null,
            "height": null,
            "justify_content": null,
            "justify_items": null,
            "left": null,
            "margin": null,
            "max_height": null,
            "max_width": null,
            "min_height": null,
            "min_width": null,
            "object_fit": null,
            "object_position": null,
            "order": null,
            "overflow": null,
            "overflow_x": null,
            "overflow_y": null,
            "padding": null,
            "right": null,
            "top": null,
            "visibility": null,
            "width": null
          }
        },
        "9d80decc005f40bc95cacf65708ebc92": {
          "model_module": "@jupyter-widgets/controls",
          "model_name": "DescriptionStyleModel",
          "model_module_version": "1.5.0",
          "state": {
            "_model_module": "@jupyter-widgets/controls",
            "_model_module_version": "1.5.0",
            "_model_name": "DescriptionStyleModel",
            "_view_count": null,
            "_view_module": "@jupyter-widgets/base",
            "_view_module_version": "1.2.0",
            "_view_name": "StyleView",
            "description_width": ""
          }
        }
      }
    }
  },
  "cells": [
    {
      "cell_type": "markdown",
      "source": [
        "#Introduction:\n",
        "We're going to be building Food Vision Big™, using all of the data from the Food101 dataset.\n",
        "\n",
        "Yep!! All 75,750 training images and 25,250 testing images.\n",
        "\n",
        "And guess what...\n",
        "\n",
        "This time we've got the goal of beating DeepFood, a 2016 paper which used a Convolutional Neural Network trained for 2-3 days to achieve 77.4% top-1 accuracy.\n",
        "\n",
        "Note: Top-1 accuracy means \"accuracy for the top softmax activation value output by the model\"(because softmax ouputs a value for every class, but top-1 means only the highest one is evaluated). \n",
        "\n",
        "Alongside attempting to beat the DeepFood paper, we're going to use two methods to significantly improve the speed of our model training:\n",
        "\n",
        "* Prefetching\n",
        "* Mixed precision training\n",
        "\n"
      ],
      "metadata": {
        "id": "OaUClpb1lT7n"
      }
    },
    {
      "cell_type": "code",
      "execution_count": null,
      "metadata": {
        "colab": {
          "base_uri": "https://localhost:8080/"
        },
        "id": "9f8SKFPYERaJ",
        "outputId": "fcc121af-0984-4f5a-cdf1-ca3abaab25eb"
      },
      "outputs": [
        {
          "output_type": "stream",
          "name": "stdout",
          "text": [
            "GPU 0: Tesla T4 (UUID: GPU-e2f62c2c-ee50-cf4a-3344-7c5b2963af4f)\n"
          ]
        }
      ],
      "source": [
        "!nvidia-smi -L"
      ]
    },
    {
      "cell_type": "code",
      "source": [
        "# Check TensorFlow version \n",
        "import tensorflow as tf\n",
        "print(tf.__version__)"
      ],
      "metadata": {
        "colab": {
          "base_uri": "https://localhost:8080/"
        },
        "id": "e3gMIhBFEbb2",
        "outputId": "2980319d-93dd-4d0a-ec9a-16473ee77f0d"
      },
      "execution_count": null,
      "outputs": [
        {
          "output_type": "stream",
          "name": "stdout",
          "text": [
            "2.8.2\n"
          ]
        }
      ]
    },
    {
      "cell_type": "code",
      "source": [
        "# Get helper functions file\n",
        "import os \n",
        "\n",
        "if not os.path.exists(\"helper_functions.py\"):\n",
        "    !wget https://raw.githubusercontent.com/mrdbourke/tensorflow-deep-learning/main/extras/helper_functions.py\n",
        "else:\n",
        "    print(\"[INFO] 'helper_functions.py' already exists, skipping download.\")"
      ],
      "metadata": {
        "colab": {
          "base_uri": "https://localhost:8080/"
        },
        "id": "T7O9QNlfEgmT",
        "outputId": "364fb97d-b4b4-45b2-ccc5-996e4f771b62"
      },
      "execution_count": null,
      "outputs": [
        {
          "output_type": "stream",
          "name": "stdout",
          "text": [
            "--2022-10-10 22:46:45--  https://raw.githubusercontent.com/mrdbourke/tensorflow-deep-learning/main/extras/helper_functions.py\n",
            "Resolving raw.githubusercontent.com (raw.githubusercontent.com)... 185.199.108.133, 185.199.109.133, 185.199.110.133, ...\n",
            "Connecting to raw.githubusercontent.com (raw.githubusercontent.com)|185.199.108.133|:443... connected.\n",
            "HTTP request sent, awaiting response... 200 OK\n",
            "Length: 10246 (10K) [text/plain]\n",
            "Saving to: ‘helper_functions.py’\n",
            "\n",
            "\rhelper_functions.py   0%[                    ]       0  --.-KB/s               \rhelper_functions.py 100%[===================>]  10.01K  --.-KB/s    in 0s      \n",
            "\n",
            "2022-10-10 22:46:45 (108 MB/s) - ‘helper_functions.py’ saved [10246/10246]\n",
            "\n"
          ]
        }
      ]
    },
    {
      "cell_type": "code",
      "source": [
        "# Import series of helper functions for the notebook (we've created/used these in previous notebooks)\n",
        "from helper_functions import create_tensorboard_callback, plot_loss_curves, compare_historys"
      ],
      "metadata": {
        "id": "fzg6tZj_FERq"
      },
      "execution_count": null,
      "outputs": []
    },
    {
      "cell_type": "code",
      "source": [
        "#!cp /content/helper_functions.py /content/drive/MyDrive/Food_Vision/"
      ],
      "metadata": {
        "id": "66HPCXrKFKiq"
      },
      "execution_count": null,
      "outputs": []
    },
    {
      "cell_type": "code",
      "source": [
        "# Get TensorFlow Datasets\n",
        "import tensorflow_datasets as tfds"
      ],
      "metadata": {
        "id": "HuYsSHk3FTEQ"
      },
      "execution_count": null,
      "outputs": []
    },
    {
      "cell_type": "code",
      "source": [
        "# List available datasets\n",
        "datasets_list = tfds.list_builders() # get all available datasets in TFDS\n",
        "print(\"food101\" in datasets_list) # is the dataset we're after available?"
      ],
      "metadata": {
        "colab": {
          "base_uri": "https://localhost:8080/"
        },
        "id": "dS_r7-PxF2R5",
        "outputId": "98d2841a-a85b-47d3-92c5-516e86faff2f"
      },
      "execution_count": null,
      "outputs": [
        {
          "output_type": "stream",
          "name": "stdout",
          "text": [
            "True\n"
          ]
        }
      ]
    },
    {
      "cell_type": "code",
      "source": [
        "# Load in the data (takes about 5-6 minutes in Google Colab)\n",
        "(train_data, test_data), ds_info = tfds.load(name=\"food101\", # target dataset to get from TFDS\n",
        "                                             split=[\"train\", \"validation\"], # what splits of data should we get? note: not all datasets have train, valid, test\n",
        "                                             shuffle_files=True, # shuffle files on download?\n",
        "                                             as_supervised=True, # download data in tuple format (sample, label), e.g. (image, label)\n",
        "                                             with_info=True) # include dataset metadata? if so, tfds.load() returns tuple (data, ds_info)"
      ],
      "metadata": {
        "colab": {
          "base_uri": "https://localhost:8080/",
          "height": 172,
          "referenced_widgets": [
            "e92785644ee641dfb482dde9d895325c",
            "ffffacc0419542598d9ea0c3ba95ee53",
            "a80e2b00eff646c1917affc0912bc588",
            "226820930c284c87b956b62b205ebaaa",
            "5945ecd6fdf2490d98601a790e985f73",
            "9eb77791cec14441ad0c656e23939525",
            "9cfeeca1a86948eabc55da19f9627cbc",
            "51d5290aa38e498180a18b4f569c528a",
            "5d10b003394c4294a48ef5e0ab2dc52b",
            "0c4e0f7906a64d3c99a045cd986e51db",
            "b758db72a72f47beb138b1bc70801bed",
            "4c53271296954df29ca8440dec5271ea",
            "4258ffb13bc94f0f919eaffd8fc54ccb",
            "b91a2e2366bf41198d631f1a13396a45",
            "c267b8e950a44267920f556eeffed38f",
            "e454408992f94f3d8aacc2a580f83717",
            "302e34bb20ef4c6389f5c77299eb2db4",
            "114e8c6c132e408ea5519e0d6ad8597b",
            "eacd51ae6e2d450fac374f7ebc65901b",
            "3b4738d747bc42a491287b5e0538a0fd",
            "58014d21987044d59ad5fa449be56d84",
            "a4b345e473f14cc690202cd52451a461",
            "249695624fef4efc8df4e638d5d1432b",
            "bc526322fff54b29a8c574966b82c30f",
            "6239dc9f526746898186767ca3f1220b",
            "88ca1b09ad9b4b1b81e3b6b8d464e339",
            "803d3c8920c649139de7ac69ec2f2ae2",
            "7058a9ba4daf457d8af20fa5487a9b08",
            "f484e1138f6149ea80d7bdaa0883ea86",
            "ddeedb7175284a288528c3f43471e82b",
            "3521fc50d66e437f8de1de60879749c7",
            "7fab02b2d50f4cf98130958b03e961be",
            "026d66a1fbba4d2fb8d239f6e617929a",
            "220c85e3dfbd4fc89fa4826649e6dca3",
            "615664187d8c45a2b949c399a57150cb",
            "96f0ed6189044c0ea1e5c09aa4b3f5a4",
            "4ae0418b1c5746d9a4a2535e24592a20",
            "ff1f3323d1374227892c9357d0a39fd4",
            "60538cb996df4cd89ba77474570c8559",
            "dd72ed5b4c7f4c328a67161707eeca0a",
            "bb678b7e4905493289f2aba776f8080f",
            "bb477f4c494a4944bd7c143a5d7abd54",
            "2ed4e3db82a34bd797d2bb6d18de79fe",
            "33b6e95cef23416dbb80674de575fc8d",
            "7b511ec7bcb0480bb11a6cef09e1ee1e",
            "0210a159ce92497e9be2d7f92211ab45",
            "f02058834f174c5f9cc042490d920a7e",
            "2a9e97e79d5143a1b0884c5961ed385f",
            "1dca3cbfeee948e581a75f4645f61913",
            "35d65c90b69d4f9f992c3653ef55c9e2",
            "980a575c40f341b8a4cb2cda4350522f",
            "151d65c14d63445789bc16e83f112647",
            "16555f498bbb449285f0c9c67ca04235",
            "3b9a41c8e6e94f5ebcee6cbeca7c7df0",
            "4faddeb0f8814f43a40736b9a0165635",
            "9e7110a3c10f47ddadd20dc0f83dd7ff",
            "4396ae6a6f604422be6a319075e098e9",
            "2d4b8f7c79b94f2e95878856e6b73e8c",
            "9284172948c3442ba66fc44207654607",
            "ccd69387929c47d2a123267f4fc02f03",
            "31c4540e1c8c4a41aeeedd6fd682ffa4",
            "e5901f6f534145bfa5ae6a80efaa96eb",
            "36b43719b0b047e7a43e06570f46b126",
            "890a05a4c4b5485bb5bb734df0279f45",
            "c32ebac86cd24e66a76c3845d299303d",
            "4f03ca74b0eb4c219508003e5f141608",
            "8eed6355a1b84635a5d676ee49191fe0",
            "346e8d5ab46a4fcc8fdf038bdf5628e8",
            "5f8af3ac151e4553844b0f6880ba0d48",
            "37b667353f8f4f08838c810b22c07c6c",
            "69f05de6c4e34859b305c6a6f9f4d19f",
            "d19346935ccc4f51a39d467122c93cec",
            "6fe7b6eed13447fcb98b8846fcd01b2f",
            "ef4bc34fb70f49fca33c254016771a0c",
            "a50e51c55c0d4179a4f693b3b452718c",
            "353a401366aa4e049247ed0cc14bf686",
            "966f59adb3784b518c9b674ed94b9b2f",
            "e4b742022c1d444280521c906941ba4a",
            "57ef051e3d1a4e72b88894edd5994085",
            "15098d92dc374a88a292e1269eefa56a",
            "596d4ba08a7d4d3189001316b75322a4",
            "9e375c2fc26848ff93983bf395dd2fba",
            "3339ab943b5f4e35994c5970351a686f",
            "13fdb52b09e146909f049e50d52b680e",
            "8e000549de5d4413bc2bf0140735a432",
            "2776b32c8e25490db6e9ad2829f59cdf",
            "27116d4718894efaa6ac74feaaff6353",
            "9d80decc005f40bc95cacf65708ebc92"
          ]
        },
        "id": "nn7AqhJEF88R",
        "outputId": "8a0c725c-ba87-4284-9eb9-9d3df8b36943"
      },
      "execution_count": null,
      "outputs": [
        {
          "output_type": "stream",
          "name": "stdout",
          "text": [
            "\u001b[1mDownloading and preparing dataset 4.65 GiB (download: 4.65 GiB, generated: Unknown size, total: 4.65 GiB) to ~/tensorflow_datasets/food101/2.0.0...\u001b[0m\n"
          ]
        },
        {
          "output_type": "display_data",
          "data": {
            "text/plain": [
              "Dl Completed...: 0 url [00:00, ? url/s]"
            ],
            "application/vnd.jupyter.widget-view+json": {
              "version_major": 2,
              "version_minor": 0,
              "model_id": "e92785644ee641dfb482dde9d895325c"
            }
          },
          "metadata": {}
        },
        {
          "output_type": "display_data",
          "data": {
            "text/plain": [
              "Dl Size...: 0 MiB [00:00, ? MiB/s]"
            ],
            "application/vnd.jupyter.widget-view+json": {
              "version_major": 2,
              "version_minor": 0,
              "model_id": "4c53271296954df29ca8440dec5271ea"
            }
          },
          "metadata": {}
        },
        {
          "output_type": "display_data",
          "data": {
            "text/plain": [
              "Extraction completed...: 0 file [00:00, ? file/s]"
            ],
            "application/vnd.jupyter.widget-view+json": {
              "version_major": 2,
              "version_minor": 0,
              "model_id": "249695624fef4efc8df4e638d5d1432b"
            }
          },
          "metadata": {}
        },
        {
          "output_type": "display_data",
          "data": {
            "text/plain": [
              "Generating splits...:   0%|          | 0/2 [00:00<?, ? splits/s]"
            ],
            "application/vnd.jupyter.widget-view+json": {
              "version_major": 2,
              "version_minor": 0,
              "model_id": "220c85e3dfbd4fc89fa4826649e6dca3"
            }
          },
          "metadata": {}
        },
        {
          "output_type": "display_data",
          "data": {
            "text/plain": [
              "Generating train examples...:   0%|          | 0/75750 [00:00<?, ? examples/s]"
            ],
            "application/vnd.jupyter.widget-view+json": {
              "version_major": 2,
              "version_minor": 0,
              "model_id": "7b511ec7bcb0480bb11a6cef09e1ee1e"
            }
          },
          "metadata": {}
        },
        {
          "output_type": "display_data",
          "data": {
            "text/plain": [
              "Shuffling ~/tensorflow_datasets/food101/2.0.0.incompleteOTXBAG/food101-train.tfrecord*...:   0%|          | 0/…"
            ],
            "application/vnd.jupyter.widget-view+json": {
              "version_major": 2,
              "version_minor": 0,
              "model_id": "9e7110a3c10f47ddadd20dc0f83dd7ff"
            }
          },
          "metadata": {}
        },
        {
          "output_type": "display_data",
          "data": {
            "text/plain": [
              "Generating validation examples...:   0%|          | 0/25250 [00:00<?, ? examples/s]"
            ],
            "application/vnd.jupyter.widget-view+json": {
              "version_major": 2,
              "version_minor": 0,
              "model_id": "8eed6355a1b84635a5d676ee49191fe0"
            }
          },
          "metadata": {}
        },
        {
          "output_type": "display_data",
          "data": {
            "text/plain": [
              "Shuffling ~/tensorflow_datasets/food101/2.0.0.incompleteOTXBAG/food101-validation.tfrecord*...:   0%|         …"
            ],
            "application/vnd.jupyter.widget-view+json": {
              "version_major": 2,
              "version_minor": 0,
              "model_id": "e4b742022c1d444280521c906941ba4a"
            }
          },
          "metadata": {}
        },
        {
          "output_type": "stream",
          "name": "stdout",
          "text": [
            "\u001b[1mDataset food101 downloaded and prepared to ~/tensorflow_datasets/food101/2.0.0. Subsequent calls will reuse this data.\u001b[0m\n"
          ]
        }
      ]
    },
    {
      "cell_type": "code",
      "source": [
        "# Features of Food101 TFDS\n",
        "ds_info.features"
      ],
      "metadata": {
        "colab": {
          "base_uri": "https://localhost:8080/"
        },
        "id": "tGTUqW8CGfYR",
        "outputId": "b8049d49-4658-4c77-b0ad-1fdfcc7f2676"
      },
      "execution_count": null,
      "outputs": [
        {
          "output_type": "execute_result",
          "data": {
            "text/plain": [
              "FeaturesDict({\n",
              "    'image': Image(shape=(None, None, 3), dtype=tf.uint8),\n",
              "    'label': ClassLabel(shape=(), dtype=tf.int64, num_classes=101),\n",
              "})"
            ]
          },
          "metadata": {},
          "execution_count": 10
        }
      ]
    },
    {
      "cell_type": "code",
      "source": [
        "# Get class names\n",
        "class_names = ds_info.features[\"label\"].names\n",
        "class_names[:10]"
      ],
      "metadata": {
        "colab": {
          "base_uri": "https://localhost:8080/"
        },
        "id": "fDjGNH1mIsZb",
        "outputId": "8694d3f6-4ef3-48e7-cb82-5b68c3e415f4"
      },
      "execution_count": null,
      "outputs": [
        {
          "output_type": "execute_result",
          "data": {
            "text/plain": [
              "['apple_pie',\n",
              " 'baby_back_ribs',\n",
              " 'baklava',\n",
              " 'beef_carpaccio',\n",
              " 'beef_tartare',\n",
              " 'beet_salad',\n",
              " 'beignets',\n",
              " 'bibimbap',\n",
              " 'bread_pudding',\n",
              " 'breakfast_burrito']"
            ]
          },
          "metadata": {},
          "execution_count": 16
        }
      ]
    },
    {
      "cell_type": "code",
      "source": [
        "# Take one sample off the training data\n",
        "train_one_sample = train_data.take(1) # samples are in format (image_tensor, label)\n",
        "train_one_sample"
      ],
      "metadata": {
        "colab": {
          "base_uri": "https://localhost:8080/"
        },
        "id": "nx4vXeyAI0nh",
        "outputId": "8405fca4-dbf4-456d-e86d-23a8c2319c2e"
      },
      "execution_count": null,
      "outputs": [
        {
          "output_type": "execute_result",
          "data": {
            "text/plain": [
              "<TakeDataset element_spec=(TensorSpec(shape=(None, None, 3), dtype=tf.uint8, name=None), TensorSpec(shape=(), dtype=tf.int64, name=None))>"
            ]
          },
          "metadata": {},
          "execution_count": 19
        }
      ]
    },
    {
      "cell_type": "code",
      "source": [
        "# Output info about our training sample\n",
        "for image, label in train_one_sample:\n",
        "  print(f\"\"\"\n",
        "  Image shape: {image.shape}\n",
        "  Image dtype: {image.dtype}\n",
        "  Target class from Food101 (tensor form): {label}\n",
        "  Class name (str form): {class_names[label.numpy()]}\n",
        "        \"\"\")"
      ],
      "metadata": {
        "colab": {
          "base_uri": "https://localhost:8080/"
        },
        "id": "2r31EILAJIyQ",
        "outputId": "1922e8b3-01d8-4187-9bf0-ecf180b3cc33"
      },
      "execution_count": null,
      "outputs": [
        {
          "output_type": "stream",
          "name": "stdout",
          "text": [
            "\n",
            "  Image shape: (341, 512, 3)\n",
            "  Image dtype: <dtype: 'uint8'>\n",
            "  Target class from Food101 (tensor form): 98\n",
            "  Class name (str form): tiramisu\n",
            "        \n"
          ]
        }
      ]
    },
    {
      "cell_type": "code",
      "source": [
        "# What are the min and max values?\n",
        "tf.reduce_min(image), tf.reduce_max(image)"
      ],
      "metadata": {
        "colab": {
          "base_uri": "https://localhost:8080/"
        },
        "id": "MB-QP6X_JPOJ",
        "outputId": "294d4ad0-f6af-4de2-94c9-e96b662dad42"
      },
      "execution_count": null,
      "outputs": [
        {
          "output_type": "execute_result",
          "data": {
            "text/plain": [
              "(<tf.Tensor: shape=(), dtype=uint8, numpy=0>,\n",
              " <tf.Tensor: shape=(), dtype=uint8, numpy=255>)"
            ]
          },
          "metadata": {},
          "execution_count": 21
        }
      ]
    },
    {
      "cell_type": "code",
      "source": [
        "# Plot an image tensor\n",
        "import matplotlib.pyplot as plt\n",
        "plt.imshow(image)\n",
        "plt.title(class_names[label.numpy()]) # add title to image by indexing on class_names list\n",
        "plt.axis(False);\n"
      ],
      "metadata": {
        "colab": {
          "base_uri": "https://localhost:8080/",
          "height": 264
        },
        "id": "LlKrqYBmJU-o",
        "outputId": "46e652c2-701a-4f1d-a75b-66b0be8c67f8"
      },
      "execution_count": null,
      "outputs": [
        {
          "output_type": "display_data",
          "data": {
            "text/plain": [
              "<Figure size 432x288 with 1 Axes>"
            ],
            "image/png": "[encoded data removed]"
          },
          "metadata": {
            "needs_background": "light"
          }
        }
      ]
    },
    {
      "cell_type": "markdown",
      "source": [
        "Our data is currently:\n",
        "\n",
        "* In `uint8` data type\n",
        "* Comprised of all differnet sized tensors (different sized images)\n",
        "* Not scaled (the pixel values are between 0 & 255)\n",
        "\n",
        "Whereas, models like data to be:\n",
        "\n",
        "* In `float32` data type\n",
        "* Have all of the same size tensors (batches require all tensors have the same shape, e.g. (224, 224, 3))\n",
        "* Scaled (values between 0 & 1), also called normalized\n",
        "\n",
        "To take care of these, we'll create a preprocess_img() function which:\n",
        "\n",
        "* Resizes an input image tensor to a specified size using `tf.image.resize()`\n",
        "* Converts an input image tensor's current datatype to `tf.float32` using `tf.cast()`"
      ],
      "metadata": {
        "id": "mLUafcl5J3xI"
      }
    },
    {
      "cell_type": "code",
      "source": [
        "# Make a function for preprocessing images\n",
        "def preprocess_img(image, label, img_shape=224):\n",
        "    \"\"\"\n",
        "    Converts image datatype from 'uint8' -> 'float32' and reshapes image to\n",
        "    [img_shape, img_shape, color_channels]\n",
        "    \"\"\"\n",
        "    image = tf.image.resize(image, [img_shape, img_shape]) # reshape to img_shape\n",
        "    return tf.cast(image, tf.float32), label # return (float32_image, label) tuple"
      ],
      "metadata": {
        "id": "Fbe9pSpWJeOq"
      },
      "execution_count": null,
      "outputs": []
    },
    {
      "cell_type": "code",
      "source": [
        "# Preprocess a single sample image and check the outputs\n",
        "preprocessed_img = preprocess_img(image, label)[0]\n",
        "print(f\"Image before preprocessing:\\nShape: {image.shape},\\nDatatype: {image.dtype}\\n\")\n",
        "print(f\"Image after preprocessing:\\nShape: {preprocessed_img.shape},\\nDatatype: {preprocessed_img.dtype}\")"
      ],
      "metadata": {
        "colab": {
          "base_uri": "https://localhost:8080/"
        },
        "id": "H4lxNxwMKk9B",
        "outputId": "07e9fea3-d14d-485d-d127-40d0c6ee6482"
      },
      "execution_count": null,
      "outputs": [
        {
          "output_type": "stream",
          "name": "stdout",
          "text": [
            "Image before preprocessing:\n",
            "Shape: (341, 512, 3),\n",
            "Datatype: <dtype: 'uint8'>\n",
            "\n",
            "Image after preprocessing:\n",
            "Shape: (224, 224, 3),\n",
            "Datatype: <dtype: 'float32'>\n"
          ]
        }
      ]
    },
    {
      "cell_type": "code",
      "source": [
        "# Map preprocessing function to training data (and paralellize)\n",
        "train_data = train_data.map(map_func=preprocess_img,num_parallel_calls=tf.data.AUTOTUNE)\n",
        "#shuffle train_data and turn it into batches and prefetch it(load it faster)\n",
        "train_data = train_data.shuffle(buffer_size=1000).batch(batch_size=32).prefetch(buffer_size=tf.data.AUTOTUNE)"
      ],
      "metadata": {
        "id": "DXumUX0aK3bI"
      },
      "execution_count": null,
      "outputs": []
    },
    {
      "cell_type": "code",
      "source": [
        "#map preprocessing to test data\n",
        "test_data = test_data.map(preprocess_img,num_parallel_calls=tf.data.AUTOTUNE)\n",
        "# Turn test data into batches (don't need to shuffle)\n",
        "test_data = test_data.batch(32).prefetch(tf.data.AUTOTUNE)"
      ],
      "metadata": {
        "id": "qtbNX5DAPKb5"
      },
      "execution_count": null,
      "outputs": []
    },
    {
      "cell_type": "code",
      "source": [
        "train_data, test_data"
      ],
      "metadata": {
        "colab": {
          "base_uri": "https://localhost:8080/"
        },
        "id": "gviyRDYhPcX4",
        "outputId": "eae1634d-2f57-40c4-8c26-7a49e7438d82"
      },
      "execution_count": null,
      "outputs": [
        {
          "output_type": "execute_result",
          "data": {
            "text/plain": [
              "(<PrefetchDataset element_spec=(TensorSpec(shape=(None, 224, 224, 3), dtype=tf.float32, name=None), TensorSpec(shape=(None,), dtype=tf.int64, name=None))>,\n",
              " <PrefetchDataset element_spec=(TensorSpec(shape=(None, 224, 224, 3), dtype=tf.float32, name=None), TensorSpec(shape=(None,), dtype=tf.int64, name=None))>)"
            ]
          },
          "metadata": {},
          "execution_count": 32
        }
      ]
    },
    {
      "cell_type": "markdown",
      "source": [
        "## Create modelling callbacks\n",
        "Since we're going to be training on a large amount of data and training could take a long time, it's a good idea to set up some modelling callbacks so we be sure of things like our model's training logs being tracked and our model being checkpointed (saved) after various training milestones.\n",
        "\n",
        "To do each of these we'll use the following callbacks:\n",
        "\n",
        "* `tf.keras.callbacks.TensorBoard()` - allows us to keep track of our model's training history so we can inspect it later (note: we've created this callback before have imported it from helper_functions.py as create_tensorboard_callback())\n",
        "* `tf.keras.callbacks.ModelCheckpoint()` - saves our model's progress at various intervals so we can load it and resuse it later without having to retrain it\n",
        " * Checkpointing is also helpful so we can start fine-tuning our model at a particular epoch and revert back to a previous state if fine-tuning offers no benefits."
      ],
      "metadata": {
        "id": "lh0VW2PQP3d-"
      }
    },
    {
      "cell_type": "code",
      "source": [
        "from helper_functions import create_tensorboard_callback\n",
        "\n",
        "# Create ModelCheckpoint callback to save model's progress\n",
        "checkpoint_path = \"/content/drive/MyDrive/Food_Vision/model_checkpoints/cp.ckpt\" # saving weights requires \".ckpt\" extension\n",
        "model_checkpoint = tf.keras.callbacks.ModelCheckpoint(checkpoint_path,\n",
        "                                                      monitor=\"val_accuracy\", # save the model weights with best validation accuracy\n",
        "                                                      save_best_only=True, # only save the best weights\n",
        "                                                      save_weights_only=True, # only save model weights (not whole model)\n",
        "                                                      verbose=0) # don't print out whether or not model is being saved "
      ],
      "metadata": {
        "id": "qMcJC92XPgPW"
      },
      "execution_count": null,
      "outputs": []
    },
    {
      "cell_type": "code",
      "source": [
        "# Turn on mixed precision training\n",
        "from tensorflow.keras import mixed_precision\n",
        "mixed_precision.set_global_policy(policy=\"mixed_float16\") # set global policy to mixed precision"
      ],
      "metadata": {
        "id": "SWzOL1baQXWY"
      },
      "execution_count": null,
      "outputs": []
    },
    {
      "cell_type": "code",
      "source": [
        "mixed_precision.global_policy() # should output \"mixed_float16\" (if our GPU is compatible with mixed precision)"
      ],
      "metadata": {
        "colab": {
          "base_uri": "https://localhost:8080/"
        },
        "id": "eJiQGOpTRNpO",
        "outputId": "81c53318-041d-45f3-a450-0065af00a9fb"
      },
      "execution_count": null,
      "outputs": [
        {
          "output_type": "execute_result",
          "data": {
            "text/plain": [
              "<Policy \"mixed_float16\">"
            ]
          },
          "metadata": {},
          "execution_count": 35
        }
      ]
    },
    {
      "cell_type": "markdown",
      "source": [
        "## Build feature extraction model\n",
        "\n",
        "Recall, the typical order for using transfer learning is:\n",
        "\n",
        "* Build a feature extraction model (replace the top few layers of a pretrained model)\n",
        "* Train for a few epochs with lower layers frozen\n",
        "* Fine-tune if necessary with multiple layers unfrozen\n",
        "\n",
        "![07-feature-extraction-then-fine-tune.png](data:image/png;base64,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)"
      ],
      "metadata": {
        "id": "ArNLPszcRpU2"
      }
    },
    {
      "cell_type": "markdown",
      "source": [
        "To build the feature extraction model , we'll:\n",
        "\n",
        "* Use EfficientNetB0 from tf.keras.applications pre-trained on ImageNet as our base model\n",
        " * We'll download this without the top layers using include_top=False parameter so we can create our own output layers\n",
        "* Freeze the base model layers so we can use the pre-learned patterns the base model has found on ImageNet\n",
        "* Put together the input, base model, pooling and output layers in a Functional model\n",
        "* Compile the Functional model using the Adam optimizer and sparse categorical crossentropy as the loss function (since our labels aren't one-hot encoded)\n",
        "* Fit the model for 3 epochs using the TensorBoard and ModelCheckpoint callbacks"
      ],
      "metadata": {
        "id": "JcEmsb3uSI_V"
      }
    },
    {
      "cell_type": "code",
      "source": [
        "from tensorflow.keras import layers\n",
        "\n",
        "#create the base model\n",
        "input_shape = (224,224,3)\n",
        "base_model = tf.keras.applications.EfficientNetB0(include_top=False)\n",
        "base_model.trainable = False # freeze base model layers\n",
        "\n",
        "#create functional model\n",
        "inputs = layers.Input(shape=input_shape, name=\"input_layer\")\n",
        "x = base_model(inputs, training=False) # set base_model to inference mode only\n",
        "x = layers.GlobalAveragePooling2D(name=\"pooling_layer\")(x)\n",
        "x = layers.Dense(len(class_names))(x) # want one output neuron per class \n",
        "# Separate activation of output layer so we can output float32 activations\n",
        "outputs = layers.Activation(\"softmax\", dtype=tf.float32, name=\"softmax_float32\")(x) \n",
        "model = tf.keras.Model(inputs, outputs)\n",
        "\n",
        "# Compile the model\n",
        "model.compile(loss=\"sparse_categorical_crossentropy\", # Use sparse_categorical_crossentropy when labels are *not* one-hot\n",
        "              optimizer=tf.keras.optimizers.Adam(),\n",
        "              metrics=[\"accuracy\"])"
      ],
      "metadata": {
        "colab": {
          "base_uri": "https://localhost:8080/"
        },
        "id": "0csGUNgGRUYe",
        "outputId": "c2991a1e-fc24-4571-a116-1f40a4a7fac6"
      },
      "execution_count": null,
      "outputs": [
        {
          "output_type": "stream",
          "name": "stdout",
          "text": [
            "Downloading data from https://storage.googleapis.com/keras-applications/efficientnetb0_notop.h5\n",
            "16711680/16705208 [==============================] - 0s 0us/step\n",
            "16719872/16705208 [==============================] - 0s 0us/step\n"
          ]
        }
      ]
    },
    {
      "cell_type": "code",
      "source": [
        "# Check out our model\n",
        "model.summary()"
      ],
      "metadata": {
        "colab": {
          "base_uri": "https://localhost:8080/"
        },
        "id": "Vr-T1UZDTNp5",
        "outputId": "a049cb1e-d5e0-4491-c845-d6c00a8ed7f6"
      },
      "execution_count": null,
      "outputs": [
        {
          "output_type": "stream",
          "name": "stdout",
          "text": [
            "Model: \"model\"\n",
            "_________________________________________________________________\n",
            " Layer (type)                Output Shape              Param #   \n",
            "=================================================================\n",
            " input_layer (InputLayer)    [(None, 224, 224, 3)]     0         \n",
            "                                                                 \n",
            " efficientnetb0 (Functional)  (None, None, None, 1280)  4049571  \n",
            "                                                                 \n",
            " pooling_layer (GlobalAverag  (None, 1280)             0         \n",
            " ePooling2D)                                                     \n",
            "                                                                 \n",
            " dense (Dense)               (None, 101)               129381    \n",
            "                                                                 \n",
            " softmax_float32 (Activation  (None, 101)              0         \n",
            " )                                                               \n",
            "                                                                 \n",
            "=================================================================\n",
            "Total params: 4,178,952\n",
            "Trainable params: 129,381\n",
            "Non-trainable params: 4,049,571\n",
            "_________________________________________________________________\n"
          ]
        }
      ]
    },
    {
      "cell_type": "code",
      "source": [
        "# Check the dtype_policy attributes of layers in our model\n",
        "for layer in model.layers:\n",
        "    print(layer.name, layer.trainable, layer.dtype, layer.dtype_policy) # Check the dtype policy of layers"
      ],
      "metadata": {
        "colab": {
          "base_uri": "https://localhost:8080/"
        },
        "id": "-bx7P78GTO8l",
        "outputId": "68da3228-3f1f-4d4c-ed59-e4ac6bdadffa"
      },
      "execution_count": null,
      "outputs": [
        {
          "output_type": "stream",
          "name": "stdout",
          "text": [
            "input_layer True float32 <Policy \"float32\">\n",
            "efficientnetb0 False float32 <Policy \"mixed_float16\">\n",
            "pooling_layer True float32 <Policy \"mixed_float16\">\n",
            "dense True float32 <Policy \"mixed_float16\">\n",
            "softmax_float32 True float32 <Policy \"float32\">\n"
          ]
        }
      ]
    },
    {
      "cell_type": "code",
      "source": [
        "# Turn off all warnings except for errors\n",
        "tf.get_logger().setLevel('ERROR')\n",
        "\n",
        "# Fit the model with callbacks\n",
        "history_101_food_classes_feature_extract = model.fit(train_data, \n",
        "                                                     epochs=3,\n",
        "                                                     steps_per_epoch=len(train_data),\n",
        "                                                     validation_data=test_data,\n",
        "                                                     validation_steps=int(0.15 * len(test_data)),\n",
        "                                                     callbacks=[create_tensorboard_callback(\"training_logs\", \n",
        "                                                                                            \"efficientnetb0_101_classes_all_data_feature_extract\"),\n",
        "                                                                model_checkpoint])"
      ],
      "metadata": {
        "colab": {
          "base_uri": "https://localhost:8080/"
        },
        "id": "hQj-TrL2Tdw-",
        "outputId": "cf6ac54a-a627-41a1-a768-2bc460761ed3"
      },
      "execution_count": null,
      "outputs": [
        {
          "output_type": "stream",
          "name": "stdout",
          "text": [
            "Saving TensorBoard log files to: training_logs/efficientnetb0_101_classes_all_data_feature_extract/20221010-235137\n",
            "Epoch 1/3\n",
            "2368/2368 [==============================] - 195s 75ms/step - loss: 1.8208 - accuracy: 0.5574 - val_loss: 1.2189 - val_accuracy: 0.6769\n",
            "Epoch 2/3\n",
            "2368/2368 [==============================] - 175s 73ms/step - loss: 1.2936 - accuracy: 0.6667 - val_loss: 1.1283 - val_accuracy: 0.6999\n",
            "Epoch 3/3\n",
            "2368/2368 [==============================] - 175s 73ms/step - loss: 1.1436 - accuracy: 0.7019 - val_loss: 1.0873 - val_accuracy: 0.7095\n"
          ]
        }
      ]
    },
    {
      "cell_type": "code",
      "source": [
        "# Evaluate model (unsaved version) on whole test dataset\n",
        "results_feature_extract_model = model.evaluate(test_data)\n",
        "results_feature_extract_model"
      ],
      "metadata": {
        "colab": {
          "base_uri": "https://localhost:8080/"
        },
        "id": "McuVZpbST6hW",
        "outputId": "5b3775fc-85b1-4937-e0a3-d30e7ffb6827"
      },
      "execution_count": null,
      "outputs": [
        {
          "output_type": "stream",
          "name": "stdout",
          "text": [
            "790/790 [==============================] - 50s 63ms/step - loss: 1.0893 - accuracy: 0.7079\n"
          ]
        },
        {
          "output_type": "execute_result",
          "data": {
            "text/plain": [
              "[1.089276909828186, 0.7078812122344971]"
            ]
          },
          "metadata": {},
          "execution_count": 40
        }
      ]
    },
    {
      "cell_type": "markdown",
      "source": [
        "## Load and evaluate checkpoint weights\n",
        "We can load in and evaluate our model's checkpoints by:\n",
        "\n",
        "1. Cloning our model using `tf.keras.models.clone_model()` to make a copy of our feature extraction model with reset weights.\n",
        "2. Calling the `load_weights()` method on our cloned model passing it the path to where our checkpointed weights are stored.\n",
        "3. Calling `evaluate()` on the cloned model with loaded weights."
      ],
      "metadata": {
        "id": "kHZNCqKiWsA0"
      }
    },
    {
      "cell_type": "code",
      "source": [
        "# Clone the model we created (this resets all weights)\n",
        "cloned_model = tf.keras.models.clone_model(model)\n",
        "cloned_model.summary()"
      ],
      "metadata": {
        "colab": {
          "base_uri": "https://localhost:8080/"
        },
        "id": "EVhIP8jNU07_",
        "outputId": "d098c6b2-9fb4-4430-ed90-3cb5ac7266c7"
      },
      "execution_count": null,
      "outputs": [
        {
          "output_type": "stream",
          "name": "stdout",
          "text": [
            "Model: \"model\"\n",
            "_________________________________________________________________\n",
            " Layer (type)                Output Shape              Param #   \n",
            "=================================================================\n",
            " input_layer (InputLayer)    [(None, 224, 224, 3)]     0         \n",
            "                                                                 \n",
            " efficientnetb0 (Functional)  (None, None, None, 1280)  4049571  \n",
            "                                                                 \n",
            " pooling_layer (GlobalAverag  (None, 1280)             0         \n",
            " ePooling2D)                                                     \n",
            "                                                                 \n",
            " dense (Dense)               (None, 101)               129381    \n",
            "                                                                 \n",
            " softmax_float32 (Activation  (None, 101)              0         \n",
            " )                                                               \n",
            "                                                                 \n",
            "=================================================================\n",
            "Total params: 4,178,952\n",
            "Trainable params: 129,381\n",
            "Non-trainable params: 4,049,571\n",
            "_________________________________________________________________\n"
          ]
        }
      ]
    },
    {
      "cell_type": "code",
      "source": [
        "# Where are our checkpoints stored?\n",
        "checkpoint_path"
      ],
      "metadata": {
        "colab": {
          "base_uri": "https://localhost:8080/",
          "height": 37
        },
        "id": "dgD69o4XW0Ff",
        "outputId": "f91d8c76-0e94-4e8c-bba2-0fff3cb3cf60"
      },
      "execution_count": null,
      "outputs": [
        {
          "output_type": "execute_result",
          "data": {
            "text/plain": [
              "'/content/drive/MyDrive/Food_Vision/model_checkpoints/cp.ckpt'"
            ],
            "application/vnd.google.colaboratory.intrinsic+json": {
              "type": "string"
            }
          },
          "metadata": {},
          "execution_count": 42
        }
      ]
    },
    {
      "cell_type": "code",
      "source": [
        "# Load checkpointed weights into cloned_model\n",
        "cloned_model.load_weights(checkpoint_path)"
      ],
      "metadata": {
        "colab": {
          "base_uri": "https://localhost:8080/"
        },
        "id": "MDjJayiBW7R9",
        "outputId": "237df18a-bb4d-4a4f-d9f6-03d835c3f1e8"
      },
      "execution_count": null,
      "outputs": [
        {
          "output_type": "execute_result",
          "data": {
            "text/plain": [
              "<tensorflow.python.training.tracking.util.CheckpointLoadStatus at 0x7fa453c95b50>"
            ]
          },
          "metadata": {},
          "execution_count": 43
        }
      ]
    },
    {
      "cell_type": "code",
      "source": [
        "# Compile cloned_model (with same parameters as original model)\n",
        "cloned_model.compile(loss=\"sparse_categorical_crossentropy\",\n",
        "                     optimizer=tf.keras.optimizers.Adam(),\n",
        "                     metrics=[\"accuracy\"])"
      ],
      "metadata": {
        "id": "vCrV__VVW-xN"
      },
      "execution_count": null,
      "outputs": []
    },
    {
      "cell_type": "code",
      "source": [
        "# Evalaute cloned model with loaded weights (should be same score as trained model)\n",
        "results_cloned_model_with_loaded_weights = cloned_model.evaluate(test_data)"
      ],
      "metadata": {
        "colab": {
          "base_uri": "https://localhost:8080/"
        },
        "id": "2-G1FYp5XDwL",
        "outputId": "c45c53ef-7eec-4ca4-b633-8ff3850cc0b9"
      },
      "execution_count": null,
      "outputs": [
        {
          "output_type": "stream",
          "name": "stdout",
          "text": [
            "790/790 [==============================] - 53s 63ms/step - loss: 1.7203 - accuracy: 0.5500\n"
          ]
        }
      ]
    },
    {
      "cell_type": "markdown",
      "source": [
        "## \n",
        "Save the whole model to file\n",
        "\n",
        "We can also save the whole model using the save() method.\n",
        "\n"
      ],
      "metadata": {
        "id": "A9gdT2N8XhSj"
      }
    },
    {
      "cell_type": "code",
      "source": [
        "## Saving model to Google Drive (optional)\n",
        "\n",
        "# Create save path to drive \n",
        "save_dir = \"/content/drive/MyDrive/Food_Vision/model_saved/07_efficientnetb0_feature_extract_model_mixed_precision/\"\n",
        "os.makedirs(save_dir) # Make directory if it doesn't exist\n",
        "\n",
        "# Save model\n",
        "model.save(save_dir)"
      ],
      "metadata": {
        "id": "T0uKxRVgXHEQ"
      },
      "execution_count": null,
      "outputs": []
    },
    {
      "cell_type": "code",
      "source": [
        "# Load model previously saved above\n",
        "loaded_saved_model = tf.keras.models.load_model(save_dir)"
      ],
      "metadata": {
        "id": "GMZnh8HPX82G"
      },
      "execution_count": null,
      "outputs": []
    },
    {
      "cell_type": "markdown",
      "source": [
        "\n",
        "Loading a SavedModel also retains all of the underlying layers `dtype_policy` (we want them to be \"mixed_float16\")."
      ],
      "metadata": {
        "id": "5UEn-JCYYPPu"
      }
    },
    {
      "cell_type": "code",
      "source": [
        "# Check the layers in the base model and see what dtype policy they're using\n",
        "for layer in loaded_saved_model.layers[1].layers[:20]: # check only the first 20 layers to save output space\n",
        "    print(layer.name, layer.trainable, layer.dtype, layer.dtype_policy)"
      ],
      "metadata": {
        "colab": {
          "base_uri": "https://localhost:8080/"
        },
        "id": "oTcSb3qIYG4d",
        "outputId": "087625dd-0b8b-4c04-c28a-1c4719e70c77"
      },
      "execution_count": null,
      "outputs": [
        {
          "output_type": "stream",
          "name": "stdout",
          "text": [
            "input_1 True float32 <Policy \"float32\">\n",
            "rescaling False float32 <Policy \"mixed_float16\">\n",
            "normalization False float32 <Policy \"mixed_float16\">\n",
            "stem_conv_pad False float32 <Policy \"mixed_float16\">\n",
            "stem_conv False float32 <Policy \"mixed_float16\">\n",
            "stem_bn False float32 <Policy \"mixed_float16\">\n",
            "stem_activation False float32 <Policy \"mixed_float16\">\n",
            "block1a_dwconv False float32 <Policy \"mixed_float16\">\n",
            "block1a_bn False float32 <Policy \"mixed_float16\">\n",
            "block1a_activation False float32 <Policy \"mixed_float16\">\n",
            "block1a_se_squeeze False float32 <Policy \"mixed_float16\">\n",
            "block1a_se_reshape False float32 <Policy \"mixed_float16\">\n",
            "block1a_se_reduce False float32 <Policy \"mixed_float16\">\n",
            "block1a_se_expand False float32 <Policy \"mixed_float16\">\n",
            "block1a_se_excite False float32 <Policy \"mixed_float16\">\n",
            "block1a_project_conv False float32 <Policy \"mixed_float16\">\n",
            "block1a_project_bn False float32 <Policy \"mixed_float16\">\n",
            "block2a_expand_conv False float32 <Policy \"mixed_float16\">\n",
            "block2a_expand_bn False float32 <Policy \"mixed_float16\">\n",
            "block2a_expand_activation False float32 <Policy \"mixed_float16\">\n"
          ]
        }
      ]
    },
    {
      "cell_type": "code",
      "source": [
        "# Check loaded model performance (this should be the same as results_feature_extract_model)\n",
        "results_loaded_saved_model = loaded_saved_model.evaluate(test_data)\n",
        "results_loaded_saved_model"
      ],
      "metadata": {
        "colab": {
          "base_uri": "https://localhost:8080/"
        },
        "id": "rBKsA8rzYUx4",
        "outputId": "6825aca6-7216-43e8-9da8-3b46ba651fab"
      },
      "execution_count": null,
      "outputs": [
        {
          "output_type": "stream",
          "name": "stdout",
          "text": [
            "790/790 [==============================] - 54s 65ms/step - loss: 1.0893 - accuracy: 0.7079\n"
          ]
        },
        {
          "output_type": "execute_result",
          "data": {
            "text/plain": [
              "[1.0892776250839233, 0.7078812122344971]"
            ]
          },
          "metadata": {},
          "execution_count": 49
        }
      ]
    },
    {
      "cell_type": "code",
      "source": [
        "# The loaded model's results should equal (or at least be very close) to the model's results prior to saving\n",
        "# Note: this will only work if you've instatiated results variables \n",
        "import numpy as np\n",
        "np.isclose(results_feature_extract_model, results_loaded_saved_model).all()"
      ],
      "metadata": {
        "colab": {
          "base_uri": "https://localhost:8080/"
        },
        "id": "FLsC3cIHYcGN",
        "outputId": "fc8f2da9-db5a-4b28-fcde-ddc081055993"
      },
      "execution_count": null,
      "outputs": [
        {
          "output_type": "execute_result",
          "data": {
            "text/plain": [
              "True"
            ]
          },
          "metadata": {},
          "execution_count": 53
        }
      ]
    },
    {
      "cell_type": "markdown",
      "source": [
        "## \n",
        "Preparing our model's layers for fine-tuning\n",
        "\n",
        "Our feature-extraction model is showing some great promise after three epochs. But since we've got so much data, it's probably worthwhile that we see what results we can get with fine-tuning (fine-tuning usually works best when you've got quite a large amount of data).\n",
        "\n",
        "Remember our goal of beating the \n",
        "[DeepFood paper](https://arxiv.org/pdf/1606.05675.pdf)\n",
        "?\n",
        "\n",
        "They were able to achieve 77.4% top-1 accuracy on Food101 over 2-3 days of training.\n"
      ],
      "metadata": {
        "id": "ZhwpNLluZDFm"
      }
    },
    {
      "cell_type": "code",
      "source": [
        "loaded_gs_model = loaded_saved_model "
      ],
      "metadata": {
        "id": "PnY0K_VWYnpa"
      },
      "execution_count": null,
      "outputs": []
    },
    {
      "cell_type": "code",
      "source": [
        "loaded_gs_model.summary()"
      ],
      "metadata": {
        "colab": {
          "base_uri": "https://localhost:8080/"
        },
        "id": "S5KrOAzLZgX3",
        "outputId": "5fbe5a62-8b53-471a-9b6f-87d8b3640c4d"
      },
      "execution_count": null,
      "outputs": [
        {
          "output_type": "stream",
          "name": "stdout",
          "text": [
            "Model: \"model\"\n",
            "_________________________________________________________________\n",
            " Layer (type)                Output Shape              Param #   \n",
            "=================================================================\n",
            " input_layer (InputLayer)    [(None, 224, 224, 3)]     0         \n",
            "                                                                 \n",
            " efficientnetb0 (Functional)  (None, None, None, 1280)  4049571  \n",
            "                                                                 \n",
            " pooling_layer (GlobalAverag  (None, 1280)             0         \n",
            " ePooling2D)                                                     \n",
            "                                                                 \n",
            " dense (Dense)               (None, 101)               129381    \n",
            "                                                                 \n",
            " softmax_float32 (Activation  (None, 101)              0         \n",
            " )                                                               \n",
            "                                                                 \n",
            "=================================================================\n",
            "Total params: 4,178,952\n",
            "Trainable params: 129,381\n",
            "Non-trainable params: 4,049,571\n",
            "_________________________________________________________________\n"
          ]
        }
      ]
    },
    {
      "cell_type": "code",
      "source": [
        "# How does the loaded model perform?\n",
        "results_loaded_gs_model = loaded_gs_model.evaluate(test_data)\n",
        "results_loaded_gs_model"
      ],
      "metadata": {
        "colab": {
          "base_uri": "https://localhost:8080/"
        },
        "id": "oJjOqfw4ZkT0",
        "outputId": "40f7115c-c163-48ca-9bc5-71c5b3fb787d"
      },
      "execution_count": null,
      "outputs": [
        {
          "output_type": "stream",
          "name": "stdout",
          "text": [
            "790/790 [==============================] - 54s 69ms/step - loss: 1.0893 - accuracy: 0.7079\n"
          ]
        },
        {
          "output_type": "execute_result",
          "data": {
            "text/plain": [
              "[1.0892765522003174, 0.7078812122344971]"
            ]
          },
          "metadata": {},
          "execution_count": 56
        }
      ]
    },
    {
      "cell_type": "markdown",
      "source": [
        "\n",
        "Great, our loaded model is performing as expected.\n",
        "\n",
        "When we first created our model, we froze all of the layers in the base model by setting `base_model.trainable=False` but since we've loaded in our model from file, let's check whether or not the layers are trainable or not."
      ],
      "metadata": {
        "id": "SZxordjoZvAh"
      }
    },
    {
      "cell_type": "code",
      "source": [
        "# Are any of the layers in our model frozen?\n",
        "for layer in loaded_gs_model.layers:\n",
        "    layer.trainable = True # set all layers to trainable\n",
        "    print(layer.name, layer.trainable, layer.dtype, layer.dtype_policy) # make sure loaded model is using mixed precision dtype_policy (\"mixed_float16\")"
      ],
      "metadata": {
        "colab": {
          "base_uri": "https://localhost:8080/"
        },
        "id": "y-avMhvAZp6U",
        "outputId": "2641c76b-3f7c-44fd-9af5-0535c77f0ecf"
      },
      "execution_count": null,
      "outputs": [
        {
          "output_type": "stream",
          "name": "stdout",
          "text": [
            "input_layer True float32 <Policy \"float32\">\n",
            "efficientnetb0 True float32 <Policy \"mixed_float16\">\n",
            "pooling_layer True float32 <Policy \"mixed_float16\">\n",
            "dense True float32 <Policy \"mixed_float16\">\n",
            "softmax_float32 True float32 <Policy \"float32\">\n"
          ]
        }
      ]
    },
    {
      "cell_type": "markdown",
      "source": [
        "## A couple more callbacks\n",
        "\n",
        "We're about to start fine-tuning a deep learning model with over 200 layers using over 100,000 (75k+ training, 25K+ testing) images, which means our model's training time is probably going to be much longer than before.\n",
        "\n",
        "The `EarlyStopping` callback monitors a specified model performance metric (e.g. `val_loss`) and when it stops improving for a specified number of epochs, automatically stops training.\n",
        "\n",
        "Using the `EarlyStopping` callback combined with the `ModelCheckpoint ` callback saving the best performing model automatically, we could keep our model training for an unlimited number of epochs until it stops improving.\n",
        "\n",
        "Let's set both of these up to monitor our model's `val_loss`.\n"
      ],
      "metadata": {
        "id": "HPLOINueaqsb"
      }
    },
    {
      "cell_type": "code",
      "source": [
        "# Setup EarlyStopping callback to stop training if model's val_loss doesn't improve for 3 epochs\n",
        "early_stopping = tf.keras.callbacks.EarlyStopping(monitor=\"val_loss\", # watch the val loss metric\n",
        "                                                  patience=3) # if val loss decreases for 3 epochs in a row, stop training\n",
        "\n",
        "# Create ModelCheckpoint callback to save best model during fine-tuning\n",
        "checkpoint_path = \"/content/drive/MyDrive/Food_Vision/fine_tune_checkpoints/\"\n",
        "model_checkpoint = tf.keras.callbacks.ModelCheckpoint(checkpoint_path,\n",
        "                                                      save_best_only=True,\n",
        "                                                      monitor=\"val_loss\")"
      ],
      "metadata": {
        "id": "TNNAIk8gZ4Sb"
      },
      "execution_count": null,
      "outputs": []
    },
    {
      "cell_type": "markdown",
      "source": [
        "The `ReduceLROnPlateau` callback helps to tune the learning rate for you.\n",
        "\n",
        "Like the `ModelCheckpoint` and `EarlyStopping` callbacks, the `ReduceLROnPlateau` callback montiors a specified metric and when that metric stops improving, it reduces the learning rate by a specified factor (e.g. divides the learning rate by 10).\n",
        "\n",
        "Once the validation loss stops improving for two or more epochs, we'll reduce the learning rate by a factor of `5` (e.g. 0.001 to 0.0002).\n",
        "\n",
        "And to make sure the learning rate doesn't get too low (and potentially result in our model learning nothing), we'll set the minimum learning rate to `1e-7`."
      ],
      "metadata": {
        "id": "JqFuNV-cbeBT"
      }
    },
    {
      "cell_type": "code",
      "source": [
        "# Creating learning rate reduction callback\n",
        "reduce_lr = tf.keras.callbacks.ReduceLROnPlateau(monitor=\"val_loss\",  \n",
        "                                                 factor=0.2, # multiply the learning rate by 0.2 (reduce by 5x)\n",
        "                                                 patience=2,\n",
        "                                                 verbose=1, # print out when learning rate goes down \n",
        "                                                 min_lr=1e-7)"
      ],
      "metadata": {
        "id": "t0wnzMqBZ6Uj"
      },
      "execution_count": null,
      "outputs": []
    },
    {
      "cell_type": "markdown",
      "source": [
        "Now before we start training, we've got to recompile our model.\n",
        "\n",
        "We'll use sparse categorical crossentropy as the loss and since we're fine-tuning, we'll use a 10x lower learning rate than the Adam optimizers default (1e-4 instead of 1e-3)."
      ],
      "metadata": {
        "id": "6C88G5pTcDMv"
      }
    },
    {
      "cell_type": "code",
      "source": [
        "# Compile the model\n",
        "loaded_gs_model.compile(loss=\"sparse_categorical_crossentropy\", # sparse_categorical_crossentropy for labels that are *not* one-hot\n",
        "                        optimizer=tf.keras.optimizers.Adam(0.0001), # 10x lower learning rate than the default\n",
        "                        metrics=[\"accuracy\"])"
      ],
      "metadata": {
        "id": "SaEWgjH4b-IH"
      },
      "execution_count": null,
      "outputs": []
    },
    {
      "cell_type": "code",
      "source": [
        "# Start to fine-tune (all layers)\n",
        "history_101_food_classes_all_data_fine_tune = loaded_gs_model.fit(train_data,\n",
        "                                                        epochs=100, # fine-tune for a maximum of 100 epochs\n",
        "                                                        steps_per_epoch=len(train_data),\n",
        "                                                        validation_data=test_data,\n",
        "                                                        validation_steps=int(0.15 * len(test_data)), # validation during training on 15% of test data\n",
        "                                                        callbacks=[create_tensorboard_callback(\"training_logs\", \"efficientb0_101_classes_all_data_fine_tuning\"), # track the model training logs\n",
        "                                                                   model_checkpoint, # save only the best model during training\n",
        "                                                                   early_stopping, # stop model after X epochs of no improvements\n",
        "                                                                   reduce_lr]) # reduce the learning rate after X epochs of no improvements"
      ],
      "metadata": {
        "colab": {
          "base_uri": "https://localhost:8080/"
        },
        "id": "mFn62LIocHEu",
        "outputId": "1e8bdaf5-505d-4de4-fc70-541faab47187"
      },
      "execution_count": null,
      "outputs": [
        {
          "output_type": "stream",
          "name": "stdout",
          "text": [
            "Saving TensorBoard log files to: training_logs/efficientb0_101_classes_all_data_fine_tuning/20221011-002800\n",
            "Epoch 1/100\n",
            "2368/2368 [==============================] - 398s 161ms/step - loss: 0.9209 - accuracy: 0.7534 - val_loss: 0.8197 - val_accuracy: 0.7709 - lr: 1.0000e-04\n",
            "Epoch 2/100\n",
            "2368/2368 [==============================] - 375s 157ms/step - loss: 0.5787 - accuracy: 0.8397 - val_loss: 0.7910 - val_accuracy: 0.7934 - lr: 1.0000e-04\n",
            "Epoch 3/100\n",
            "2368/2368 [==============================] - 335s 141ms/step - loss: 0.3279 - accuracy: 0.9065 - val_loss: 0.8564 - val_accuracy: 0.7868 - lr: 1.0000e-04\n",
            "Epoch 4/100\n",
            "2368/2368 [==============================] - ETA: 0s - loss: 0.1743 - accuracy: 0.9481\n",
            "Epoch 4: ReduceLROnPlateau reducing learning rate to 1.9999999494757503e-05.\n",
            "2368/2368 [==============================] - 331s 139ms/step - loss: 0.1743 - accuracy: 0.9481 - val_loss: 0.9826 - val_accuracy: 0.7850 - lr: 1.0000e-04\n",
            "Epoch 5/100\n",
            "2368/2368 [==============================] - 331s 139ms/step - loss: 0.0353 - accuracy: 0.9922 - val_loss: 1.0728 - val_accuracy: 0.8032 - lr: 2.0000e-05\n"
          ]
        }
      ]
    },
    {
      "cell_type": "code",
      "source": [
        "# Save model locally (note: if you're using Google Colab and you save your model locally, it will be deleted when your Google Colab session ends)\n",
        "loaded_gs_model.save(\"/content/drive/MyDrive/Food_Vision/model_saved/07_efficientnetb0_fine_tuned_101_classes_mixed_precision\")"
      ],
      "metadata": {
        "id": "x2vzftO9cPYt"
      },
      "execution_count": null,
      "outputs": []
    },
    {
      "cell_type": "code",
      "source": [
        "# How does the fine tuned model perform?\n",
        "results_loaded_gs_model = loaded_gs_model.evaluate(test_data)\n",
        "results_loaded_gs_model"
      ],
      "metadata": {
        "colab": {
          "base_uri": "https://localhost:8080/"
        },
        "id": "LnyJRn8fcioK",
        "outputId": "e539b4d7-a722-4e14-c144-51847b844bc6"
      },
      "execution_count": null,
      "outputs": [
        {
          "output_type": "stream",
          "name": "stdout",
          "text": [
            "790/790 [==============================] - 50s 64ms/step - loss: 1.0631 - accuracy: 0.7996\n"
          ]
        },
        {
          "output_type": "execute_result",
          "data": {
            "text/plain": [
              "[1.0631402730941772, 0.7996039390563965]"
            ]
          },
          "metadata": {},
          "execution_count": 64
        }
      ]
    },
    {
      "cell_type": "markdown",
      "source": [
        "\n",
        "Excellent! Our saved model is performing as expected (better results than the DeepFood paper!).\n",
        "\n"
      ],
      "metadata": {
        "id": "mHr5YLfudA5s"
      }
    },
    {
      "cell_type": "code",
      "source": [
        "plot_loss_curves(history_101_food_classes_all_data_fine_tune)"
      ],
      "metadata": {
        "colab": {
          "base_uri": "https://localhost:8080/",
          "height": 573
        },
        "id": "XKhQCKwMc2vZ",
        "outputId": "791720f3-2a02-418a-9ab6-b4e6ed3ea8ce"
      },
      "execution_count": null,
      "outputs": [
        {
          "output_type": "display_data",
          "data": {
            "text/plain": [
              "<Figure size 432x288 with 1 Axes>"
            ],
            "image/png": "[encoded data removed]"
          },
          "metadata": {
            "needs_background": "light"
          }
        },
        {
          "output_type": "display_data",
          "data": {
            "text/plain": [
              "<Figure size 432x288 with 1 Axes>"
            ],
            "image/png": "[encoded data removed]"
          },
          "metadata": {
            "needs_background": "light"
          }
        }
      ]
    },
    {
      "cell_type": "markdown",
      "source": [
        "#Conclusion:\n",
        "The model can be tuned further by data agumentation . We can add a keras Sequential sequential layer for this and then add to our our model after the input layer for further tuning. Though this model can be tuned further, since we beat the accuracy of 77.4% in the paper with an accuracy of 79.96%, we can stop this project here. On top of this, the model from the paper took about 2-3 days to train and our model trainied for about 20 minutes. "
      ],
      "metadata": {
        "id": "XrIw_CCXkQhm"
      }
    }
  ]
}